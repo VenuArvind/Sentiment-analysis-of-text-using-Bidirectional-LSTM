{
  "nbformat": 4,
  "nbformat_minor": 0,
  "metadata": {
    "colab": {
      "provenance": [],
      "gpuType": "T4"
    },
    "kernelspec": {
      "name": "python3",
      "display_name": "Python 3"
    },
    "language_info": {
      "name": "python"
    },
    "accelerator": "GPU"
  },
  "cells": [
    {
      "cell_type": "code",
      "execution_count": 1,
      "metadata": {
        "colab": {
          "base_uri": "https://localhost:8080/"
        },
        "id": "YCe8pmy-H4AM",
        "outputId": "e563ebe9-cf17-4f79-99a2-139c2bdce39d"
      },
      "outputs": [
        {
          "output_type": "stream",
          "name": "stdout",
          "text": [
            "Completed\n"
          ]
        }
      ],
      "source": [
        "import re\n",
        "import matplotlib.pyplot as plt\n",
        "import string\n",
        "from nltk.corpus import stopwords\n",
        "import nltk\n",
        "from nltk.corpus import wordnet\n",
        "from nltk.stem import WordNetLemmatizer\n",
        "from nltk.tokenize.treebank import TreebankWordDetokenizer\n",
        "from collections import Counter\n",
        "from wordcloud import WordCloud\n",
        "from nltk.corpus import stopwords\n",
        "import nltk\n",
        "from gensim.utils import simple_preprocess\n",
        "from nltk.corpus import stopwords\n",
        "import gensim\n",
        "from sklearn.model_selection import train_test_split\n",
        "import spacy\n",
        "import warnings\n",
        "import seaborn as sns\n",
        "from sklearn.metrics import confusion_matrix\n",
        "import matplotlib.pyplot as plt\n",
        "import tensorflow as tf\n",
        "import keras\n",
        "import numpy as np\n",
        "import pandas as pd\n",
        "print('Completed')"
      ]
    },
    {
      "cell_type": "code",
      "source": [
        "train=pd.read_csv('/content/drive/MyDrive/datasets/train.csv')\n",
        "train.head()"
      ],
      "metadata": {
        "colab": {
          "base_uri": "https://localhost:8080/",
          "height": 204
        },
        "id": "5zsYPDgsJ5lP",
        "outputId": "617d66ea-4683-4b1a-cf6f-40d020e46940"
      },
      "execution_count": 2,
      "outputs": [
        {
          "output_type": "execute_result",
          "data": {
            "text/plain": [
              "       textID                                               text  \\\n",
              "0  cb774db0d1                I`d have responded, if I were going   \n",
              "1  549e992a42      Sooo SAD I will miss you here in San Diego!!!   \n",
              "2  088c60f138                          my boss is bullying me...   \n",
              "3  9642c003ef                     what interview! leave me alone   \n",
              "4  358bd9e861   Sons of ****, why couldn`t they put them on t...   \n",
              "\n",
              "                         selected_text sentiment  \n",
              "0  I`d have responded, if I were going   neutral  \n",
              "1                             Sooo SAD  negative  \n",
              "2                          bullying me  negative  \n",
              "3                       leave me alone  negative  \n",
              "4                        Sons of ****,  negative  "
            ],
            "text/html": [
              "\n",
              "\n",
              "  <div id=\"df-446043dc-7786-4a1b-b074-32945eab001d\">\n",
              "    <div class=\"colab-df-container\">\n",
              "      <div>\n",
              "<style scoped>\n",
              "    .dataframe tbody tr th:only-of-type {\n",
              "        vertical-align: middle;\n",
              "    }\n",
              "\n",
              "    .dataframe tbody tr th {\n",
              "        vertical-align: top;\n",
              "    }\n",
              "\n",
              "    .dataframe thead th {\n",
              "        text-align: right;\n",
              "    }\n",
              "</style>\n",
              "<table border=\"1\" class=\"dataframe\">\n",
              "  <thead>\n",
              "    <tr style=\"text-align: right;\">\n",
              "      <th></th>\n",
              "      <th>textID</th>\n",
              "      <th>text</th>\n",
              "      <th>selected_text</th>\n",
              "      <th>sentiment</th>\n",
              "    </tr>\n",
              "  </thead>\n",
              "  <tbody>\n",
              "    <tr>\n",
              "      <th>0</th>\n",
              "      <td>cb774db0d1</td>\n",
              "      <td>I`d have responded, if I were going</td>\n",
              "      <td>I`d have responded, if I were going</td>\n",
              "      <td>neutral</td>\n",
              "    </tr>\n",
              "    <tr>\n",
              "      <th>1</th>\n",
              "      <td>549e992a42</td>\n",
              "      <td>Sooo SAD I will miss you here in San Diego!!!</td>\n",
              "      <td>Sooo SAD</td>\n",
              "      <td>negative</td>\n",
              "    </tr>\n",
              "    <tr>\n",
              "      <th>2</th>\n",
              "      <td>088c60f138</td>\n",
              "      <td>my boss is bullying me...</td>\n",
              "      <td>bullying me</td>\n",
              "      <td>negative</td>\n",
              "    </tr>\n",
              "    <tr>\n",
              "      <th>3</th>\n",
              "      <td>9642c003ef</td>\n",
              "      <td>what interview! leave me alone</td>\n",
              "      <td>leave me alone</td>\n",
              "      <td>negative</td>\n",
              "    </tr>\n",
              "    <tr>\n",
              "      <th>4</th>\n",
              "      <td>358bd9e861</td>\n",
              "      <td>Sons of ****, why couldn`t they put them on t...</td>\n",
              "      <td>Sons of ****,</td>\n",
              "      <td>negative</td>\n",
              "    </tr>\n",
              "  </tbody>\n",
              "</table>\n",
              "</div>\n",
              "      <button class=\"colab-df-convert\" onclick=\"convertToInteractive('df-446043dc-7786-4a1b-b074-32945eab001d')\"\n",
              "              title=\"Convert this dataframe to an interactive table.\"\n",
              "              style=\"display:none;\">\n",
              "\n",
              "  <svg xmlns=\"http://www.w3.org/2000/svg\" height=\"24px\"viewBox=\"0 0 24 24\"\n",
              "       width=\"24px\">\n",
              "    <path d=\"M0 0h24v24H0V0z\" fill=\"none\"/>\n",
              "    <path d=\"M18.56 5.44l.94 2.06.94-2.06 2.06-.94-2.06-.94-.94-2.06-.94 2.06-2.06.94zm-11 1L8.5 8.5l.94-2.06 2.06-.94-2.06-.94L8.5 2.5l-.94 2.06-2.06.94zm10 10l.94 2.06.94-2.06 2.06-.94-2.06-.94-.94-2.06-.94 2.06-2.06.94z\"/><path d=\"M17.41 7.96l-1.37-1.37c-.4-.4-.92-.59-1.43-.59-.52 0-1.04.2-1.43.59L10.3 9.45l-7.72 7.72c-.78.78-.78 2.05 0 2.83L4 21.41c.39.39.9.59 1.41.59.51 0 1.02-.2 1.41-.59l7.78-7.78 2.81-2.81c.8-.78.8-2.07 0-2.86zM5.41 20L4 18.59l7.72-7.72 1.47 1.35L5.41 20z\"/>\n",
              "  </svg>\n",
              "      </button>\n",
              "\n",
              "\n",
              "\n",
              "    <div id=\"df-a5b57bee-c914-434b-b5be-ac8caa774b93\">\n",
              "      <button class=\"colab-df-quickchart\" onclick=\"quickchart('df-a5b57bee-c914-434b-b5be-ac8caa774b93')\"\n",
              "              title=\"Suggest charts.\"\n",
              "              style=\"display:none;\">\n",
              "\n",
              "<svg xmlns=\"http://www.w3.org/2000/svg\" height=\"24px\"viewBox=\"0 0 24 24\"\n",
              "     width=\"24px\">\n",
              "    <g>\n",
              "        <path d=\"M19 3H5c-1.1 0-2 .9-2 2v14c0 1.1.9 2 2 2h14c1.1 0 2-.9 2-2V5c0-1.1-.9-2-2-2zM9 17H7v-7h2v7zm4 0h-2V7h2v10zm4 0h-2v-4h2v4z\"/>\n",
              "    </g>\n",
              "</svg>\n",
              "      </button>\n",
              "    </div>\n",
              "\n",
              "<style>\n",
              "  .colab-df-quickchart {\n",
              "    background-color: #E8F0FE;\n",
              "    border: none;\n",
              "    border-radius: 50%;\n",
              "    cursor: pointer;\n",
              "    display: none;\n",
              "    fill: #1967D2;\n",
              "    height: 32px;\n",
              "    padding: 0 0 0 0;\n",
              "    width: 32px;\n",
              "  }\n",
              "\n",
              "  .colab-df-quickchart:hover {\n",
              "    background-color: #E2EBFA;\n",
              "    box-shadow: 0px 1px 2px rgba(60, 64, 67, 0.3), 0px 1px 3px 1px rgba(60, 64, 67, 0.15);\n",
              "    fill: #174EA6;\n",
              "  }\n",
              "\n",
              "  [theme=dark] .colab-df-quickchart {\n",
              "    background-color: #3B4455;\n",
              "    fill: #D2E3FC;\n",
              "  }\n",
              "\n",
              "  [theme=dark] .colab-df-quickchart:hover {\n",
              "    background-color: #434B5C;\n",
              "    box-shadow: 0px 1px 3px 1px rgba(0, 0, 0, 0.15);\n",
              "    filter: drop-shadow(0px 1px 2px rgba(0, 0, 0, 0.3));\n",
              "    fill: #FFFFFF;\n",
              "  }\n",
              "</style>\n",
              "\n",
              "    <script>\n",
              "      async function quickchart(key) {\n",
              "        const containerElement = document.querySelector('#' + key);\n",
              "        const charts = await google.colab.kernel.invokeFunction(\n",
              "            'suggestCharts', [key], {});\n",
              "      }\n",
              "    </script>\n",
              "\n",
              "      <script>\n",
              "\n",
              "function displayQuickchartButton(domScope) {\n",
              "  let quickchartButtonEl =\n",
              "    domScope.querySelector('#df-a5b57bee-c914-434b-b5be-ac8caa774b93 button.colab-df-quickchart');\n",
              "  quickchartButtonEl.style.display =\n",
              "    google.colab.kernel.accessAllowed ? 'block' : 'none';\n",
              "}\n",
              "\n",
              "        displayQuickchartButton(document);\n",
              "      </script>\n",
              "      <style>\n",
              "    .colab-df-container {\n",
              "      display:flex;\n",
              "      flex-wrap:wrap;\n",
              "      gap: 12px;\n",
              "    }\n",
              "\n",
              "    .colab-df-convert {\n",
              "      background-color: #E8F0FE;\n",
              "      border: none;\n",
              "      border-radius: 50%;\n",
              "      cursor: pointer;\n",
              "      display: none;\n",
              "      fill: #1967D2;\n",
              "      height: 32px;\n",
              "      padding: 0 0 0 0;\n",
              "      width: 32px;\n",
              "    }\n",
              "\n",
              "    .colab-df-convert:hover {\n",
              "      background-color: #E2EBFA;\n",
              "      box-shadow: 0px 1px 2px rgba(60, 64, 67, 0.3), 0px 1px 3px 1px rgba(60, 64, 67, 0.15);\n",
              "      fill: #174EA6;\n",
              "    }\n",
              "\n",
              "    [theme=dark] .colab-df-convert {\n",
              "      background-color: #3B4455;\n",
              "      fill: #D2E3FC;\n",
              "    }\n",
              "\n",
              "    [theme=dark] .colab-df-convert:hover {\n",
              "      background-color: #434B5C;\n",
              "      box-shadow: 0px 1px 3px 1px rgba(0, 0, 0, 0.15);\n",
              "      filter: drop-shadow(0px 1px 2px rgba(0, 0, 0, 0.3));\n",
              "      fill: #FFFFFF;\n",
              "    }\n",
              "  </style>\n",
              "\n",
              "      <script>\n",
              "        const buttonEl =\n",
              "          document.querySelector('#df-446043dc-7786-4a1b-b074-32945eab001d button.colab-df-convert');\n",
              "        buttonEl.style.display =\n",
              "          google.colab.kernel.accessAllowed ? 'block' : 'none';\n",
              "\n",
              "        async function convertToInteractive(key) {\n",
              "          const element = document.querySelector('#df-446043dc-7786-4a1b-b074-32945eab001d');\n",
              "          const dataTable =\n",
              "            await google.colab.kernel.invokeFunction('convertToInteractive',\n",
              "                                                     [key], {});\n",
              "          if (!dataTable) return;\n",
              "\n",
              "          const docLinkHtml = 'Like what you see? Visit the ' +\n",
              "            '<a target=\"_blank\" href=https://colab.research.google.com/notebooks/data_table.ipynb>data table notebook</a>'\n",
              "            + ' to learn more about interactive tables.';\n",
              "          element.innerHTML = '';\n",
              "          dataTable['output_type'] = 'display_data';\n",
              "          await google.colab.output.renderOutput(dataTable, element);\n",
              "          const docLink = document.createElement('div');\n",
              "          docLink.innerHTML = docLinkHtml;\n",
              "          element.appendChild(docLink);\n",
              "        }\n",
              "      </script>\n",
              "    </div>\n",
              "  </div>\n"
            ]
          },
          "metadata": {},
          "execution_count": 2
        }
      ]
    },
    {
      "cell_type": "code",
      "source": [
        "train['sentiment'].unique()"
      ],
      "metadata": {
        "colab": {
          "base_uri": "https://localhost:8080/"
        },
        "id": "x5cvOnsvKRpv",
        "outputId": "1cd052f9-b773-4c49-a3c1-84efda207755"
      },
      "execution_count": 3,
      "outputs": [
        {
          "output_type": "execute_result",
          "data": {
            "text/plain": [
              "array(['neutral', 'negative', 'positive'], dtype=object)"
            ]
          },
          "metadata": {},
          "execution_count": 3
        }
      ]
    },
    {
      "cell_type": "code",
      "source": [
        "train.groupby('sentiment').nunique()"
      ],
      "metadata": {
        "colab": {
          "base_uri": "https://localhost:8080/",
          "height": 173
        },
        "id": "z_f9sLYqKaUO",
        "outputId": "4a99de15-2ccc-408f-9adb-ceef041acaf9"
      },
      "execution_count": 4,
      "outputs": [
        {
          "output_type": "execute_result",
          "data": {
            "text/plain": [
              "           textID   text  selected_text\n",
              "sentiment                              \n",
              "negative     7781   7781           5861\n",
              "neutral     11118  11117          11111\n",
              "positive     8582   8582           5537"
            ],
            "text/html": [
              "\n",
              "\n",
              "  <div id=\"df-a45c7949-fa64-4e9c-8476-9bc17395330d\">\n",
              "    <div class=\"colab-df-container\">\n",
              "      <div>\n",
              "<style scoped>\n",
              "    .dataframe tbody tr th:only-of-type {\n",
              "        vertical-align: middle;\n",
              "    }\n",
              "\n",
              "    .dataframe tbody tr th {\n",
              "        vertical-align: top;\n",
              "    }\n",
              "\n",
              "    .dataframe thead th {\n",
              "        text-align: right;\n",
              "    }\n",
              "</style>\n",
              "<table border=\"1\" class=\"dataframe\">\n",
              "  <thead>\n",
              "    <tr style=\"text-align: right;\">\n",
              "      <th></th>\n",
              "      <th>textID</th>\n",
              "      <th>text</th>\n",
              "      <th>selected_text</th>\n",
              "    </tr>\n",
              "    <tr>\n",
              "      <th>sentiment</th>\n",
              "      <th></th>\n",
              "      <th></th>\n",
              "      <th></th>\n",
              "    </tr>\n",
              "  </thead>\n",
              "  <tbody>\n",
              "    <tr>\n",
              "      <th>negative</th>\n",
              "      <td>7781</td>\n",
              "      <td>7781</td>\n",
              "      <td>5861</td>\n",
              "    </tr>\n",
              "    <tr>\n",
              "      <th>neutral</th>\n",
              "      <td>11118</td>\n",
              "      <td>11117</td>\n",
              "      <td>11111</td>\n",
              "    </tr>\n",
              "    <tr>\n",
              "      <th>positive</th>\n",
              "      <td>8582</td>\n",
              "      <td>8582</td>\n",
              "      <td>5537</td>\n",
              "    </tr>\n",
              "  </tbody>\n",
              "</table>\n",
              "</div>\n",
              "      <button class=\"colab-df-convert\" onclick=\"convertToInteractive('df-a45c7949-fa64-4e9c-8476-9bc17395330d')\"\n",
              "              title=\"Convert this dataframe to an interactive table.\"\n",
              "              style=\"display:none;\">\n",
              "\n",
              "  <svg xmlns=\"http://www.w3.org/2000/svg\" height=\"24px\"viewBox=\"0 0 24 24\"\n",
              "       width=\"24px\">\n",
              "    <path d=\"M0 0h24v24H0V0z\" fill=\"none\"/>\n",
              "    <path d=\"M18.56 5.44l.94 2.06.94-2.06 2.06-.94-2.06-.94-.94-2.06-.94 2.06-2.06.94zm-11 1L8.5 8.5l.94-2.06 2.06-.94-2.06-.94L8.5 2.5l-.94 2.06-2.06.94zm10 10l.94 2.06.94-2.06 2.06-.94-2.06-.94-.94-2.06-.94 2.06-2.06.94z\"/><path d=\"M17.41 7.96l-1.37-1.37c-.4-.4-.92-.59-1.43-.59-.52 0-1.04.2-1.43.59L10.3 9.45l-7.72 7.72c-.78.78-.78 2.05 0 2.83L4 21.41c.39.39.9.59 1.41.59.51 0 1.02-.2 1.41-.59l7.78-7.78 2.81-2.81c.8-.78.8-2.07 0-2.86zM5.41 20L4 18.59l7.72-7.72 1.47 1.35L5.41 20z\"/>\n",
              "  </svg>\n",
              "      </button>\n",
              "\n",
              "\n",
              "\n",
              "    <div id=\"df-7c640d3d-f380-4dad-859e-23f9038ecaf1\">\n",
              "      <button class=\"colab-df-quickchart\" onclick=\"quickchart('df-7c640d3d-f380-4dad-859e-23f9038ecaf1')\"\n",
              "              title=\"Suggest charts.\"\n",
              "              style=\"display:none;\">\n",
              "\n",
              "<svg xmlns=\"http://www.w3.org/2000/svg\" height=\"24px\"viewBox=\"0 0 24 24\"\n",
              "     width=\"24px\">\n",
              "    <g>\n",
              "        <path d=\"M19 3H5c-1.1 0-2 .9-2 2v14c0 1.1.9 2 2 2h14c1.1 0 2-.9 2-2V5c0-1.1-.9-2-2-2zM9 17H7v-7h2v7zm4 0h-2V7h2v10zm4 0h-2v-4h2v4z\"/>\n",
              "    </g>\n",
              "</svg>\n",
              "      </button>\n",
              "    </div>\n",
              "\n",
              "<style>\n",
              "  .colab-df-quickchart {\n",
              "    background-color: #E8F0FE;\n",
              "    border: none;\n",
              "    border-radius: 50%;\n",
              "    cursor: pointer;\n",
              "    display: none;\n",
              "    fill: #1967D2;\n",
              "    height: 32px;\n",
              "    padding: 0 0 0 0;\n",
              "    width: 32px;\n",
              "  }\n",
              "\n",
              "  .colab-df-quickchart:hover {\n",
              "    background-color: #E2EBFA;\n",
              "    box-shadow: 0px 1px 2px rgba(60, 64, 67, 0.3), 0px 1px 3px 1px rgba(60, 64, 67, 0.15);\n",
              "    fill: #174EA6;\n",
              "  }\n",
              "\n",
              "  [theme=dark] .colab-df-quickchart {\n",
              "    background-color: #3B4455;\n",
              "    fill: #D2E3FC;\n",
              "  }\n",
              "\n",
              "  [theme=dark] .colab-df-quickchart:hover {\n",
              "    background-color: #434B5C;\n",
              "    box-shadow: 0px 1px 3px 1px rgba(0, 0, 0, 0.15);\n",
              "    filter: drop-shadow(0px 1px 2px rgba(0, 0, 0, 0.3));\n",
              "    fill: #FFFFFF;\n",
              "  }\n",
              "</style>\n",
              "\n",
              "    <script>\n",
              "      async function quickchart(key) {\n",
              "        const containerElement = document.querySelector('#' + key);\n",
              "        const charts = await google.colab.kernel.invokeFunction(\n",
              "            'suggestCharts', [key], {});\n",
              "      }\n",
              "    </script>\n",
              "\n",
              "      <script>\n",
              "\n",
              "function displayQuickchartButton(domScope) {\n",
              "  let quickchartButtonEl =\n",
              "    domScope.querySelector('#df-7c640d3d-f380-4dad-859e-23f9038ecaf1 button.colab-df-quickchart');\n",
              "  quickchartButtonEl.style.display =\n",
              "    google.colab.kernel.accessAllowed ? 'block' : 'none';\n",
              "}\n",
              "\n",
              "        displayQuickchartButton(document);\n",
              "      </script>\n",
              "      <style>\n",
              "    .colab-df-container {\n",
              "      display:flex;\n",
              "      flex-wrap:wrap;\n",
              "      gap: 12px;\n",
              "    }\n",
              "\n",
              "    .colab-df-convert {\n",
              "      background-color: #E8F0FE;\n",
              "      border: none;\n",
              "      border-radius: 50%;\n",
              "      cursor: pointer;\n",
              "      display: none;\n",
              "      fill: #1967D2;\n",
              "      height: 32px;\n",
              "      padding: 0 0 0 0;\n",
              "      width: 32px;\n",
              "    }\n",
              "\n",
              "    .colab-df-convert:hover {\n",
              "      background-color: #E2EBFA;\n",
              "      box-shadow: 0px 1px 2px rgba(60, 64, 67, 0.3), 0px 1px 3px 1px rgba(60, 64, 67, 0.15);\n",
              "      fill: #174EA6;\n",
              "    }\n",
              "\n",
              "    [theme=dark] .colab-df-convert {\n",
              "      background-color: #3B4455;\n",
              "      fill: #D2E3FC;\n",
              "    }\n",
              "\n",
              "    [theme=dark] .colab-df-convert:hover {\n",
              "      background-color: #434B5C;\n",
              "      box-shadow: 0px 1px 3px 1px rgba(0, 0, 0, 0.15);\n",
              "      filter: drop-shadow(0px 1px 2px rgba(0, 0, 0, 0.3));\n",
              "      fill: #FFFFFF;\n",
              "    }\n",
              "  </style>\n",
              "\n",
              "      <script>\n",
              "        const buttonEl =\n",
              "          document.querySelector('#df-a45c7949-fa64-4e9c-8476-9bc17395330d button.colab-df-convert');\n",
              "        buttonEl.style.display =\n",
              "          google.colab.kernel.accessAllowed ? 'block' : 'none';\n",
              "\n",
              "        async function convertToInteractive(key) {\n",
              "          const element = document.querySelector('#df-a45c7949-fa64-4e9c-8476-9bc17395330d');\n",
              "          const dataTable =\n",
              "            await google.colab.kernel.invokeFunction('convertToInteractive',\n",
              "                                                     [key], {});\n",
              "          if (!dataTable) return;\n",
              "\n",
              "          const docLinkHtml = 'Like what you see? Visit the ' +\n",
              "            '<a target=\"_blank\" href=https://colab.research.google.com/notebooks/data_table.ipynb>data table notebook</a>'\n",
              "            + ' to learn more about interactive tables.';\n",
              "          element.innerHTML = '';\n",
              "          dataTable['output_type'] = 'display_data';\n",
              "          await google.colab.output.renderOutput(dataTable, element);\n",
              "          const docLink = document.createElement('div');\n",
              "          docLink.innerHTML = docLinkHtml;\n",
              "          element.appendChild(docLink);\n",
              "        }\n",
              "      </script>\n",
              "    </div>\n",
              "  </div>\n"
            ]
          },
          "metadata": {},
          "execution_count": 4
        }
      ]
    },
    {
      "cell_type": "code",
      "source": [
        "train = train[['selected_text','sentiment']]\n",
        "train.head()"
      ],
      "metadata": {
        "colab": {
          "base_uri": "https://localhost:8080/",
          "height": 204
        },
        "id": "WsjPIfuNKgBm",
        "outputId": "55b73107-edbc-4772-9c3f-855d656d48da"
      },
      "execution_count": 5,
      "outputs": [
        {
          "output_type": "execute_result",
          "data": {
            "text/plain": [
              "                         selected_text sentiment\n",
              "0  I`d have responded, if I were going   neutral\n",
              "1                             Sooo SAD  negative\n",
              "2                          bullying me  negative\n",
              "3                       leave me alone  negative\n",
              "4                        Sons of ****,  negative"
            ],
            "text/html": [
              "\n",
              "\n",
              "  <div id=\"df-88422faa-2ffc-40fe-97a1-e902f63e2a48\">\n",
              "    <div class=\"colab-df-container\">\n",
              "      <div>\n",
              "<style scoped>\n",
              "    .dataframe tbody tr th:only-of-type {\n",
              "        vertical-align: middle;\n",
              "    }\n",
              "\n",
              "    .dataframe tbody tr th {\n",
              "        vertical-align: top;\n",
              "    }\n",
              "\n",
              "    .dataframe thead th {\n",
              "        text-align: right;\n",
              "    }\n",
              "</style>\n",
              "<table border=\"1\" class=\"dataframe\">\n",
              "  <thead>\n",
              "    <tr style=\"text-align: right;\">\n",
              "      <th></th>\n",
              "      <th>selected_text</th>\n",
              "      <th>sentiment</th>\n",
              "    </tr>\n",
              "  </thead>\n",
              "  <tbody>\n",
              "    <tr>\n",
              "      <th>0</th>\n",
              "      <td>I`d have responded, if I were going</td>\n",
              "      <td>neutral</td>\n",
              "    </tr>\n",
              "    <tr>\n",
              "      <th>1</th>\n",
              "      <td>Sooo SAD</td>\n",
              "      <td>negative</td>\n",
              "    </tr>\n",
              "    <tr>\n",
              "      <th>2</th>\n",
              "      <td>bullying me</td>\n",
              "      <td>negative</td>\n",
              "    </tr>\n",
              "    <tr>\n",
              "      <th>3</th>\n",
              "      <td>leave me alone</td>\n",
              "      <td>negative</td>\n",
              "    </tr>\n",
              "    <tr>\n",
              "      <th>4</th>\n",
              "      <td>Sons of ****,</td>\n",
              "      <td>negative</td>\n",
              "    </tr>\n",
              "  </tbody>\n",
              "</table>\n",
              "</div>\n",
              "      <button class=\"colab-df-convert\" onclick=\"convertToInteractive('df-88422faa-2ffc-40fe-97a1-e902f63e2a48')\"\n",
              "              title=\"Convert this dataframe to an interactive table.\"\n",
              "              style=\"display:none;\">\n",
              "\n",
              "  <svg xmlns=\"http://www.w3.org/2000/svg\" height=\"24px\"viewBox=\"0 0 24 24\"\n",
              "       width=\"24px\">\n",
              "    <path d=\"M0 0h24v24H0V0z\" fill=\"none\"/>\n",
              "    <path d=\"M18.56 5.44l.94 2.06.94-2.06 2.06-.94-2.06-.94-.94-2.06-.94 2.06-2.06.94zm-11 1L8.5 8.5l.94-2.06 2.06-.94-2.06-.94L8.5 2.5l-.94 2.06-2.06.94zm10 10l.94 2.06.94-2.06 2.06-.94-2.06-.94-.94-2.06-.94 2.06-2.06.94z\"/><path d=\"M17.41 7.96l-1.37-1.37c-.4-.4-.92-.59-1.43-.59-.52 0-1.04.2-1.43.59L10.3 9.45l-7.72 7.72c-.78.78-.78 2.05 0 2.83L4 21.41c.39.39.9.59 1.41.59.51 0 1.02-.2 1.41-.59l7.78-7.78 2.81-2.81c.8-.78.8-2.07 0-2.86zM5.41 20L4 18.59l7.72-7.72 1.47 1.35L5.41 20z\"/>\n",
              "  </svg>\n",
              "      </button>\n",
              "\n",
              "\n",
              "\n",
              "    <div id=\"df-074e407e-7701-4eeb-9b11-77fd905304be\">\n",
              "      <button class=\"colab-df-quickchart\" onclick=\"quickchart('df-074e407e-7701-4eeb-9b11-77fd905304be')\"\n",
              "              title=\"Suggest charts.\"\n",
              "              style=\"display:none;\">\n",
              "\n",
              "<svg xmlns=\"http://www.w3.org/2000/svg\" height=\"24px\"viewBox=\"0 0 24 24\"\n",
              "     width=\"24px\">\n",
              "    <g>\n",
              "        <path d=\"M19 3H5c-1.1 0-2 .9-2 2v14c0 1.1.9 2 2 2h14c1.1 0 2-.9 2-2V5c0-1.1-.9-2-2-2zM9 17H7v-7h2v7zm4 0h-2V7h2v10zm4 0h-2v-4h2v4z\"/>\n",
              "    </g>\n",
              "</svg>\n",
              "      </button>\n",
              "    </div>\n",
              "\n",
              "<style>\n",
              "  .colab-df-quickchart {\n",
              "    background-color: #E8F0FE;\n",
              "    border: none;\n",
              "    border-radius: 50%;\n",
              "    cursor: pointer;\n",
              "    display: none;\n",
              "    fill: #1967D2;\n",
              "    height: 32px;\n",
              "    padding: 0 0 0 0;\n",
              "    width: 32px;\n",
              "  }\n",
              "\n",
              "  .colab-df-quickchart:hover {\n",
              "    background-color: #E2EBFA;\n",
              "    box-shadow: 0px 1px 2px rgba(60, 64, 67, 0.3), 0px 1px 3px 1px rgba(60, 64, 67, 0.15);\n",
              "    fill: #174EA6;\n",
              "  }\n",
              "\n",
              "  [theme=dark] .colab-df-quickchart {\n",
              "    background-color: #3B4455;\n",
              "    fill: #D2E3FC;\n",
              "  }\n",
              "\n",
              "  [theme=dark] .colab-df-quickchart:hover {\n",
              "    background-color: #434B5C;\n",
              "    box-shadow: 0px 1px 3px 1px rgba(0, 0, 0, 0.15);\n",
              "    filter: drop-shadow(0px 1px 2px rgba(0, 0, 0, 0.3));\n",
              "    fill: #FFFFFF;\n",
              "  }\n",
              "</style>\n",
              "\n",
              "    <script>\n",
              "      async function quickchart(key) {\n",
              "        const containerElement = document.querySelector('#' + key);\n",
              "        const charts = await google.colab.kernel.invokeFunction(\n",
              "            'suggestCharts', [key], {});\n",
              "      }\n",
              "    </script>\n",
              "\n",
              "      <script>\n",
              "\n",
              "function displayQuickchartButton(domScope) {\n",
              "  let quickchartButtonEl =\n",
              "    domScope.querySelector('#df-074e407e-7701-4eeb-9b11-77fd905304be button.colab-df-quickchart');\n",
              "  quickchartButtonEl.style.display =\n",
              "    google.colab.kernel.accessAllowed ? 'block' : 'none';\n",
              "}\n",
              "\n",
              "        displayQuickchartButton(document);\n",
              "      </script>\n",
              "      <style>\n",
              "    .colab-df-container {\n",
              "      display:flex;\n",
              "      flex-wrap:wrap;\n",
              "      gap: 12px;\n",
              "    }\n",
              "\n",
              "    .colab-df-convert {\n",
              "      background-color: #E8F0FE;\n",
              "      border: none;\n",
              "      border-radius: 50%;\n",
              "      cursor: pointer;\n",
              "      display: none;\n",
              "      fill: #1967D2;\n",
              "      height: 32px;\n",
              "      padding: 0 0 0 0;\n",
              "      width: 32px;\n",
              "    }\n",
              "\n",
              "    .colab-df-convert:hover {\n",
              "      background-color: #E2EBFA;\n",
              "      box-shadow: 0px 1px 2px rgba(60, 64, 67, 0.3), 0px 1px 3px 1px rgba(60, 64, 67, 0.15);\n",
              "      fill: #174EA6;\n",
              "    }\n",
              "\n",
              "    [theme=dark] .colab-df-convert {\n",
              "      background-color: #3B4455;\n",
              "      fill: #D2E3FC;\n",
              "    }\n",
              "\n",
              "    [theme=dark] .colab-df-convert:hover {\n",
              "      background-color: #434B5C;\n",
              "      box-shadow: 0px 1px 3px 1px rgba(0, 0, 0, 0.15);\n",
              "      filter: drop-shadow(0px 1px 2px rgba(0, 0, 0, 0.3));\n",
              "      fill: #FFFFFF;\n",
              "    }\n",
              "  </style>\n",
              "\n",
              "      <script>\n",
              "        const buttonEl =\n",
              "          document.querySelector('#df-88422faa-2ffc-40fe-97a1-e902f63e2a48 button.colab-df-convert');\n",
              "        buttonEl.style.display =\n",
              "          google.colab.kernel.accessAllowed ? 'block' : 'none';\n",
              "\n",
              "        async function convertToInteractive(key) {\n",
              "          const element = document.querySelector('#df-88422faa-2ffc-40fe-97a1-e902f63e2a48');\n",
              "          const dataTable =\n",
              "            await google.colab.kernel.invokeFunction('convertToInteractive',\n",
              "                                                     [key], {});\n",
              "          if (!dataTable) return;\n",
              "\n",
              "          const docLinkHtml = 'Like what you see? Visit the ' +\n",
              "            '<a target=\"_blank\" href=https://colab.research.google.com/notebooks/data_table.ipynb>data table notebook</a>'\n",
              "            + ' to learn more about interactive tables.';\n",
              "          element.innerHTML = '';\n",
              "          dataTable['output_type'] = 'display_data';\n",
              "          await google.colab.output.renderOutput(dataTable, element);\n",
              "          const docLink = document.createElement('div');\n",
              "          docLink.innerHTML = docLinkHtml;\n",
              "          element.appendChild(docLink);\n",
              "        }\n",
              "      </script>\n",
              "    </div>\n",
              "  </div>\n"
            ]
          },
          "metadata": {},
          "execution_count": 5
        }
      ]
    },
    {
      "cell_type": "code",
      "source": [
        "train[\"selected_text\"].fillna(\"No content\", inplace = True)"
      ],
      "metadata": {
        "id": "Inn1DCCNKi0O"
      },
      "execution_count": 6,
      "outputs": []
    },
    {
      "cell_type": "code",
      "source": [
        "def depure_data(data):\n",
        "  url_pattern=re.compile(r'https?://\\S+|www\\.\\S+')\n",
        "  data=url_pattern.sub(r'',data)\n",
        "\n",
        "  data = re.sub('\\S*@\\S*\\s?', '', data)\n",
        "\n",
        "  data = re.sub('\\s+', ' ', data)\n",
        "\n",
        "  data = re.sub(\"\\'\", \"\", data)\n",
        "\n",
        "  return data"
      ],
      "metadata": {
        "id": "Oom7WXADKsv_"
      },
      "execution_count": 7,
      "outputs": []
    },
    {
      "cell_type": "code",
      "source": [
        "temp=[]\n",
        "data_to_list=train['selected_text'].values.tolist()\n",
        "for i in range(len(data_to_list)):\n",
        "    temp.append(depure_data(data_to_list[i]))"
      ],
      "metadata": {
        "id": "N0yklxheLHMX"
      },
      "execution_count": 8,
      "outputs": []
    },
    {
      "cell_type": "code",
      "source": [
        "def sent_to_words(sentences):\n",
        "  for sentence in sentences:\n",
        "    yield(gensim.utils.simple_preprocess(str(sentence), deacc=True))\n",
        "\n",
        "data_words = list(sent_to_words(temp))\n",
        "\n",
        "print(data_words[:15])\n"
      ],
      "metadata": {
        "colab": {
          "base_uri": "https://localhost:8080/"
        },
        "id": "PV3_5y6eLSXW",
        "outputId": "7e9c2304-36de-4ad8-a6ce-d9a133a35ba3"
      },
      "execution_count": 9,
      "outputs": [
        {
          "output_type": "stream",
          "name": "stdout",
          "text": [
            "[['have', 'responded', 'if', 'were', 'going'], ['sooo', 'sad'], ['bullying', 'me'], ['leave', 'me', 'alone'], ['sons', 'of'], ['some', 'shameless', 'plugging', 'for', 'the', 'best', 'rangers', 'forum', 'on', 'earth'], ['fun'], ['soooo', 'high'], ['both', 'of', 'you'], ['wow', 'just', 'became', 'cooler'], ['as', 'much', 'as', 'love', 'to', 'be', 'hopeful', 'reckon', 'the', 'chances', 'are', 'minimal', 'never', 'gonna', 'get', 'my', 'cake', 'and', 'stuff'], ['like'], ['dangerously'], ['lost'], ['test', 'test', 'from', 'the', 'lg', 'env']]\n"
          ]
        }
      ]
    },
    {
      "cell_type": "code",
      "source": [
        "def detokenize(text):\n",
        "    return TreebankWordDetokenizer().detokenize(text)\n",
        "\n",
        "data = []\n",
        "for i in range(len(data_words)):\n",
        "    data.append(detokenize(data_words[i]))\n",
        "print(data[:6])"
      ],
      "metadata": {
        "colab": {
          "base_uri": "https://localhost:8080/"
        },
        "id": "0bU_N6gWTZsv",
        "outputId": "4efbf3ab-c869-4343-bc2b-857dddeb49a3"
      },
      "execution_count": 10,
      "outputs": [
        {
          "output_type": "stream",
          "name": "stdout",
          "text": [
            "['have responded if were going', 'sooo sad', 'bullying me', 'leave me alone', 'sons of', 'some shameless plugging for the best rangers forum on earth']\n"
          ]
        }
      ]
    },
    {
      "cell_type": "code",
      "source": [
        "data=np.array(data)"
      ],
      "metadata": {
        "id": "EK8yUWgKTt72"
      },
      "execution_count": 11,
      "outputs": []
    },
    {
      "cell_type": "code",
      "source": [
        "labels=np.array(train['sentiment'])\n",
        "\n",
        "y = []\n",
        "for i in range(len(labels)):\n",
        "    if labels[i] == 'neutral':\n",
        "        y.append(0)\n",
        "    if labels[i] == 'negative':\n",
        "        y.append(1)\n",
        "    if labels[i] == 'positive':\n",
        "        y.append(2)\n",
        "y = np.array(y)\n",
        "labels = tf.keras.utils.to_categorical(y, 3, dtype=\"float32\")\n",
        "del y\n",
        "\n",
        "print(len(labels))"
      ],
      "metadata": {
        "colab": {
          "base_uri": "https://localhost:8080/"
        },
        "id": "bqkoReobTwnO",
        "outputId": "077f235f-e7ee-4c52-993e-b62de6a816d0"
      },
      "execution_count": 12,
      "outputs": [
        {
          "output_type": "stream",
          "name": "stdout",
          "text": [
            "27481\n"
          ]
        }
      ]
    },
    {
      "cell_type": "code",
      "source": [
        "from keras.models import Sequential\n",
        "from keras import layers\n",
        "from keras.optimizers import RMSprop,Adam\n",
        "from keras.preprocessing.text import Tokenizer\n",
        "from keras.utils import pad_sequences\n",
        "from keras import regularizers\n",
        "from keras import backend as K\n",
        "from keras.callbacks import ModelCheckpoint\n",
        "print('Completed')"
      ],
      "metadata": {
        "colab": {
          "base_uri": "https://localhost:8080/"
        },
        "id": "TLEyjob3UCtu",
        "outputId": "219455dd-d285-4f1e-eb11-89dbcb0368e7"
      },
      "execution_count": 13,
      "outputs": [
        {
          "output_type": "stream",
          "name": "stdout",
          "text": [
            "Completed\n"
          ]
        }
      ]
    },
    {
      "cell_type": "code",
      "source": [
        "max_words = 5000\n",
        "max_len = 200\n",
        "\n",
        "tokenizer = Tokenizer(num_words=max_words)\n",
        "tokenizer.fit_on_texts(data)\n",
        "sequences = tokenizer.texts_to_sequences(data)\n",
        "tweets = pad_sequences(sequences, maxlen=max_len)\n",
        "print(tweets)"
      ],
      "metadata": {
        "colab": {
          "base_uri": "https://localhost:8080/"
        },
        "id": "al8fHARzUVYF",
        "outputId": "db1d340c-b5c5-4cdf-ebb6-d427536e2e0b"
      },
      "execution_count": 14,
      "outputs": [
        {
          "output_type": "stream",
          "name": "stdout",
          "text": [
            "[[   0    0    0 ...   68  146   41]\n",
            " [   0    0    0 ...    0  397   65]\n",
            " [   0    0    0 ...    0    0   11]\n",
            " ...\n",
            " [   0    0    0 ...  372   10    3]\n",
            " [   0    0    0 ...   24  542    4]\n",
            " [   0    0    0 ... 2424  199  657]]\n"
          ]
        }
      ]
    },
    {
      "cell_type": "code",
      "source": [
        "X_train, X_test, y_train, y_test = train_test_split(tweets,labels, random_state=0)\n",
        "print (len(X_train),len(X_test),len(y_train),len(y_test))"
      ],
      "metadata": {
        "colab": {
          "base_uri": "https://localhost:8080/"
        },
        "id": "DDngBvDVUZbd",
        "outputId": "531fd5d0-beed-4a7e-9b25-93515cbcda94"
      },
      "execution_count": 15,
      "outputs": [
        {
          "output_type": "stream",
          "name": "stdout",
          "text": [
            "20610 6871 20610 6871\n"
          ]
        }
      ]
    },
    {
      "cell_type": "markdown",
      "source": [
        "Single LSTM layer model"
      ],
      "metadata": {
        "id": "0Lbmvx2vUvlP"
      }
    },
    {
      "cell_type": "code",
      "source": [
        "model1=Sequential()\n",
        "model1.add(layers.Embedding(max_words,20))\n",
        "model1.add(layers.LSTM(15,dropout=0.5))\n",
        "model1.add(layers.Dense(3,activation='softmax'))\n",
        "\n",
        "model1.compile(optimizer='rmsprop',loss='categorical_crossentropy', metrics=['accuracy'])\n",
        "checkpoint1 = ModelCheckpoint(\"best_model1.hdf5\", monitor='val_accuracy', verbose=1,save_best_only=True, mode='auto', period=1,save_weights_only=False)\n",
        "history = model1.fit(X_train, y_train, epochs=70,validation_data=(X_test, y_test),callbacks=[checkpoint1])"
      ],
      "metadata": {
        "colab": {
          "base_uri": "https://localhost:8080/"
        },
        "id": "-Yhbjc3uUdN9",
        "outputId": "97e4d175-5b90-4f3f-b1ce-d9fb5f7d5b39"
      },
      "execution_count": 16,
      "outputs": [
        {
          "output_type": "stream",
          "name": "stderr",
          "text": [
            "WARNING:tensorflow:`period` argument is deprecated. Please use `save_freq` to specify the frequency in number of batches seen.\n"
          ]
        },
        {
          "output_type": "stream",
          "name": "stdout",
          "text": [
            "Epoch 1/70\n",
            "645/645 [==============================] - ETA: 0s - loss: 0.8194 - accuracy: 0.6423\n",
            "Epoch 1: val_accuracy improved from -inf to 0.73817, saving model to best_model1.hdf5\n",
            "645/645 [==============================] - 32s 39ms/step - loss: 0.8194 - accuracy: 0.6423 - val_loss: 0.6675 - val_accuracy: 0.7382\n",
            "Epoch 2/70\n",
            "645/645 [==============================] - ETA: 0s - loss: 0.5859 - accuracy: 0.7663\n",
            "Epoch 2: val_accuracy improved from 0.73817 to 0.79319, saving model to best_model1.hdf5\n",
            "645/645 [==============================] - 9s 14ms/step - loss: 0.5859 - accuracy: 0.7663 - val_loss: 0.5359 - val_accuracy: 0.7932\n",
            "Epoch 3/70\n",
            "645/645 [==============================] - ETA: 0s - loss: 0.5059 - accuracy: 0.8021\n",
            "Epoch 3: val_accuracy improved from 0.79319 to 0.80876, saving model to best_model1.hdf5\n",
            "645/645 [==============================] - 8s 12ms/step - loss: 0.5059 - accuracy: 0.8021 - val_loss: 0.5011 - val_accuracy: 0.8088\n",
            "Epoch 4/70\n",
            "645/645 [==============================] - ETA: 0s - loss: 0.4740 - accuracy: 0.8183\n",
            "Epoch 4: val_accuracy did not improve from 0.80876\n",
            "645/645 [==============================] - 9s 14ms/step - loss: 0.4740 - accuracy: 0.8183 - val_loss: 0.4864 - val_accuracy: 0.8054\n",
            "Epoch 5/70\n",
            "644/645 [============================>.] - ETA: 0s - loss: 0.4506 - accuracy: 0.8273\n",
            "Epoch 5: val_accuracy improved from 0.80876 to 0.81269, saving model to best_model1.hdf5\n",
            "645/645 [==============================] - 8s 13ms/step - loss: 0.4506 - accuracy: 0.8273 - val_loss: 0.4760 - val_accuracy: 0.8127\n",
            "Epoch 6/70\n",
            "645/645 [==============================] - ETA: 0s - loss: 0.4416 - accuracy: 0.8316\n",
            "Epoch 6: val_accuracy improved from 0.81269 to 0.81939, saving model to best_model1.hdf5\n",
            "645/645 [==============================] - 7s 10ms/step - loss: 0.4416 - accuracy: 0.8316 - val_loss: 0.4637 - val_accuracy: 0.8194\n",
            "Epoch 7/70\n",
            "645/645 [==============================] - ETA: 0s - loss: 0.4268 - accuracy: 0.8381\n",
            "Epoch 7: val_accuracy improved from 0.81939 to 0.82128, saving model to best_model1.hdf5\n",
            "645/645 [==============================] - 8s 12ms/step - loss: 0.4268 - accuracy: 0.8381 - val_loss: 0.4606 - val_accuracy: 0.8213\n",
            "Epoch 8/70\n",
            "645/645 [==============================] - ETA: 0s - loss: 0.4154 - accuracy: 0.8425\n",
            "Epoch 8: val_accuracy improved from 0.82128 to 0.82666, saving model to best_model1.hdf5\n",
            "645/645 [==============================] - 7s 11ms/step - loss: 0.4154 - accuracy: 0.8425 - val_loss: 0.4514 - val_accuracy: 0.8267\n",
            "Epoch 9/70\n",
            "645/645 [==============================] - ETA: 0s - loss: 0.4070 - accuracy: 0.8470\n",
            "Epoch 9: val_accuracy improved from 0.82666 to 0.82724, saving model to best_model1.hdf5\n",
            "645/645 [==============================] - 9s 14ms/step - loss: 0.4070 - accuracy: 0.8470 - val_loss: 0.4486 - val_accuracy: 0.8272\n",
            "Epoch 10/70\n",
            "645/645 [==============================] - ETA: 0s - loss: 0.4000 - accuracy: 0.8507\n",
            "Epoch 10: val_accuracy improved from 0.82724 to 0.83045, saving model to best_model1.hdf5\n",
            "645/645 [==============================] - 7s 11ms/step - loss: 0.4000 - accuracy: 0.8507 - val_loss: 0.4453 - val_accuracy: 0.8304\n",
            "Epoch 11/70\n",
            "645/645 [==============================] - ETA: 0s - loss: 0.3916 - accuracy: 0.8534\n",
            "Epoch 11: val_accuracy did not improve from 0.83045\n",
            "645/645 [==============================] - 8s 12ms/step - loss: 0.3916 - accuracy: 0.8534 - val_loss: 0.4524 - val_accuracy: 0.8290\n",
            "Epoch 12/70\n",
            "645/645 [==============================] - ETA: 0s - loss: 0.3869 - accuracy: 0.8555\n",
            "Epoch 12: val_accuracy did not improve from 0.83045\n",
            "645/645 [==============================] - 10s 15ms/step - loss: 0.3869 - accuracy: 0.8555 - val_loss: 0.4390 - val_accuracy: 0.8286\n",
            "Epoch 13/70\n",
            "645/645 [==============================] - ETA: 0s - loss: 0.3808 - accuracy: 0.8588\n",
            "Epoch 13: val_accuracy did not improve from 0.83045\n",
            "645/645 [==============================] - 6s 10ms/step - loss: 0.3808 - accuracy: 0.8588 - val_loss: 0.4394 - val_accuracy: 0.8291\n",
            "Epoch 14/70\n",
            "643/645 [============================>.] - ETA: 0s - loss: 0.3751 - accuracy: 0.8617\n",
            "Epoch 14: val_accuracy did not improve from 0.83045\n",
            "645/645 [==============================] - 8s 12ms/step - loss: 0.3751 - accuracy: 0.8617 - val_loss: 0.4406 - val_accuracy: 0.8299\n",
            "Epoch 15/70\n",
            "641/645 [============================>.] - ETA: 0s - loss: 0.3737 - accuracy: 0.8606\n",
            "Epoch 15: val_accuracy did not improve from 0.83045\n",
            "645/645 [==============================] - 7s 11ms/step - loss: 0.3739 - accuracy: 0.8606 - val_loss: 0.4439 - val_accuracy: 0.8275\n",
            "Epoch 16/70\n",
            "645/645 [==============================] - ETA: 0s - loss: 0.3704 - accuracy: 0.8639\n",
            "Epoch 16: val_accuracy improved from 0.83045 to 0.83248, saving model to best_model1.hdf5\n",
            "645/645 [==============================] - 9s 13ms/step - loss: 0.3704 - accuracy: 0.8639 - val_loss: 0.4342 - val_accuracy: 0.8325\n",
            "Epoch 17/70\n",
            "645/645 [==============================] - ETA: 0s - loss: 0.3651 - accuracy: 0.8639\n",
            "Epoch 17: val_accuracy improved from 0.83248 to 0.83438, saving model to best_model1.hdf5\n",
            "645/645 [==============================] - 7s 11ms/step - loss: 0.3651 - accuracy: 0.8639 - val_loss: 0.4347 - val_accuracy: 0.8344\n",
            "Epoch 18/70\n",
            "645/645 [==============================] - ETA: 0s - loss: 0.3627 - accuracy: 0.8644\n",
            "Epoch 18: val_accuracy improved from 0.83438 to 0.83452, saving model to best_model1.hdf5\n",
            "645/645 [==============================] - 8s 13ms/step - loss: 0.3627 - accuracy: 0.8644 - val_loss: 0.4332 - val_accuracy: 0.8345\n",
            "Epoch 19/70\n",
            "642/645 [============================>.] - ETA: 0s - loss: 0.3598 - accuracy: 0.8647\n",
            "Epoch 19: val_accuracy improved from 0.83452 to 0.83714, saving model to best_model1.hdf5\n",
            "645/645 [==============================] - 7s 10ms/step - loss: 0.3596 - accuracy: 0.8647 - val_loss: 0.4356 - val_accuracy: 0.8371\n",
            "Epoch 20/70\n",
            "644/645 [============================>.] - ETA: 0s - loss: 0.3585 - accuracy: 0.8669\n",
            "Epoch 20: val_accuracy did not improve from 0.83714\n",
            "645/645 [==============================] - 12s 19ms/step - loss: 0.3585 - accuracy: 0.8670 - val_loss: 0.4382 - val_accuracy: 0.8363\n",
            "Epoch 21/70\n",
            "644/645 [============================>.] - ETA: 0s - loss: 0.3571 - accuracy: 0.8684\n",
            "Epoch 21: val_accuracy improved from 0.83714 to 0.83743, saving model to best_model1.hdf5\n",
            "645/645 [==============================] - 10s 15ms/step - loss: 0.3571 - accuracy: 0.8685 - val_loss: 0.4307 - val_accuracy: 0.8374\n",
            "Epoch 22/70\n",
            "641/645 [============================>.] - ETA: 0s - loss: 0.3493 - accuracy: 0.8694\n",
            "Epoch 22: val_accuracy did not improve from 0.83743\n",
            "645/645 [==============================] - 8s 12ms/step - loss: 0.3490 - accuracy: 0.8696 - val_loss: 0.4452 - val_accuracy: 0.8334\n",
            "Epoch 23/70\n",
            "645/645 [==============================] - ETA: 0s - loss: 0.3505 - accuracy: 0.8718\n",
            "Epoch 23: val_accuracy did not improve from 0.83743\n",
            "645/645 [==============================] - 7s 11ms/step - loss: 0.3505 - accuracy: 0.8718 - val_loss: 0.4279 - val_accuracy: 0.8367\n",
            "Epoch 24/70\n",
            "645/645 [==============================] - ETA: 0s - loss: 0.3476 - accuracy: 0.8713\n",
            "Epoch 24: val_accuracy did not improve from 0.83743\n",
            "645/645 [==============================] - 8s 12ms/step - loss: 0.3476 - accuracy: 0.8713 - val_loss: 0.4316 - val_accuracy: 0.8374\n",
            "Epoch 25/70\n",
            "644/645 [============================>.] - ETA: 0s - loss: 0.3478 - accuracy: 0.8735\n",
            "Epoch 25: val_accuracy improved from 0.83743 to 0.83801, saving model to best_model1.hdf5\n",
            "645/645 [==============================] - 6s 10ms/step - loss: 0.3477 - accuracy: 0.8736 - val_loss: 0.4338 - val_accuracy: 0.8380\n",
            "Epoch 26/70\n",
            "645/645 [==============================] - ETA: 0s - loss: 0.3438 - accuracy: 0.8756\n",
            "Epoch 26: val_accuracy improved from 0.83801 to 0.83845, saving model to best_model1.hdf5\n",
            "645/645 [==============================] - 8s 12ms/step - loss: 0.3438 - accuracy: 0.8756 - val_loss: 0.4305 - val_accuracy: 0.8385\n",
            "Epoch 27/70\n",
            "645/645 [==============================] - ETA: 0s - loss: 0.3425 - accuracy: 0.8746\n",
            "Epoch 27: val_accuracy did not improve from 0.83845\n",
            "645/645 [==============================] - 7s 11ms/step - loss: 0.3425 - accuracy: 0.8746 - val_loss: 0.4320 - val_accuracy: 0.8373\n",
            "Epoch 28/70\n",
            "645/645 [==============================] - ETA: 0s - loss: 0.3386 - accuracy: 0.8751\n",
            "Epoch 28: val_accuracy did not improve from 0.83845\n",
            "645/645 [==============================] - 8s 13ms/step - loss: 0.3386 - accuracy: 0.8751 - val_loss: 0.4374 - val_accuracy: 0.8382\n",
            "Epoch 29/70\n",
            "645/645 [==============================] - ETA: 0s - loss: 0.3378 - accuracy: 0.8753\n",
            "Epoch 29: val_accuracy did not improve from 0.83845\n",
            "645/645 [==============================] - 7s 11ms/step - loss: 0.3378 - accuracy: 0.8753 - val_loss: 0.4259 - val_accuracy: 0.8374\n",
            "Epoch 30/70\n",
            "643/645 [============================>.] - ETA: 0s - loss: 0.3367 - accuracy: 0.8751\n",
            "Epoch 30: val_accuracy did not improve from 0.83845\n",
            "645/645 [==============================] - 8s 12ms/step - loss: 0.3365 - accuracy: 0.8752 - val_loss: 0.4299 - val_accuracy: 0.8385\n",
            "Epoch 31/70\n",
            "639/645 [============================>.] - ETA: 0s - loss: 0.3361 - accuracy: 0.8751\n",
            "Epoch 31: val_accuracy did not improve from 0.83845\n",
            "645/645 [==============================] - 6s 10ms/step - loss: 0.3359 - accuracy: 0.8753 - val_loss: 0.4324 - val_accuracy: 0.8371\n",
            "Epoch 32/70\n",
            "644/645 [============================>.] - ETA: 0s - loss: 0.3366 - accuracy: 0.8768\n",
            "Epoch 32: val_accuracy improved from 0.83845 to 0.83889, saving model to best_model1.hdf5\n",
            "645/645 [==============================] - 8s 12ms/step - loss: 0.3367 - accuracy: 0.8768 - val_loss: 0.4283 - val_accuracy: 0.8389\n",
            "Epoch 33/70\n",
            "645/645 [==============================] - ETA: 0s - loss: 0.3326 - accuracy: 0.8760\n",
            "Epoch 33: val_accuracy improved from 0.83889 to 0.83976, saving model to best_model1.hdf5\n",
            "645/645 [==============================] - 7s 11ms/step - loss: 0.3326 - accuracy: 0.8760 - val_loss: 0.4361 - val_accuracy: 0.8398\n",
            "Epoch 34/70\n",
            "645/645 [==============================] - ETA: 0s - loss: 0.3319 - accuracy: 0.8778\n",
            "Epoch 34: val_accuracy did not improve from 0.83976\n",
            "645/645 [==============================] - 9s 14ms/step - loss: 0.3319 - accuracy: 0.8778 - val_loss: 0.4315 - val_accuracy: 0.8396\n",
            "Epoch 35/70\n",
            "645/645 [==============================] - ETA: 0s - loss: 0.3321 - accuracy: 0.8804\n",
            "Epoch 35: val_accuracy improved from 0.83976 to 0.84093, saving model to best_model1.hdf5\n",
            "645/645 [==============================] - 8s 12ms/step - loss: 0.3321 - accuracy: 0.8804 - val_loss: 0.4320 - val_accuracy: 0.8409\n",
            "Epoch 36/70\n",
            "642/645 [============================>.] - ETA: 0s - loss: 0.3276 - accuracy: 0.8766\n",
            "Epoch 36: val_accuracy did not improve from 0.84093\n",
            "645/645 [==============================] - 7s 11ms/step - loss: 0.3276 - accuracy: 0.8766 - val_loss: 0.4332 - val_accuracy: 0.8379\n",
            "Epoch 37/70\n",
            "643/645 [============================>.] - ETA: 0s - loss: 0.3265 - accuracy: 0.8790\n",
            "Epoch 37: val_accuracy did not improve from 0.84093\n",
            "645/645 [==============================] - 8s 12ms/step - loss: 0.3264 - accuracy: 0.8790 - val_loss: 0.4337 - val_accuracy: 0.8390\n",
            "Epoch 38/70\n",
            "639/645 [============================>.] - ETA: 0s - loss: 0.3268 - accuracy: 0.8802\n",
            "Epoch 38: val_accuracy did not improve from 0.84093\n",
            "645/645 [==============================] - 7s 11ms/step - loss: 0.3274 - accuracy: 0.8802 - val_loss: 0.4270 - val_accuracy: 0.8393\n",
            "Epoch 39/70\n",
            "640/645 [============================>.] - ETA: 0s - loss: 0.3255 - accuracy: 0.8813\n",
            "Epoch 39: val_accuracy did not improve from 0.84093\n",
            "645/645 [==============================] - 8s 13ms/step - loss: 0.3261 - accuracy: 0.8812 - val_loss: 0.4301 - val_accuracy: 0.8405\n",
            "Epoch 40/70\n",
            "645/645 [==============================] - ETA: 0s - loss: 0.3221 - accuracy: 0.8823\n",
            "Epoch 40: val_accuracy did not improve from 0.84093\n",
            "645/645 [==============================] - 7s 10ms/step - loss: 0.3221 - accuracy: 0.8823 - val_loss: 0.4320 - val_accuracy: 0.8393\n",
            "Epoch 41/70\n",
            "645/645 [==============================] - ETA: 0s - loss: 0.3234 - accuracy: 0.8802\n",
            "Epoch 41: val_accuracy did not improve from 0.84093\n",
            "645/645 [==============================] - 8s 13ms/step - loss: 0.3234 - accuracy: 0.8802 - val_loss: 0.4305 - val_accuracy: 0.8408\n",
            "Epoch 42/70\n",
            "641/645 [============================>.] - ETA: 0s - loss: 0.3205 - accuracy: 0.8825\n",
            "Epoch 42: val_accuracy improved from 0.84093 to 0.84325, saving model to best_model1.hdf5\n",
            "645/645 [==============================] - 7s 11ms/step - loss: 0.3201 - accuracy: 0.8826 - val_loss: 0.4304 - val_accuracy: 0.8433\n",
            "Epoch 43/70\n",
            "644/645 [============================>.] - ETA: 0s - loss: 0.3211 - accuracy: 0.8807\n",
            "Epoch 43: val_accuracy did not improve from 0.84325\n",
            "645/645 [==============================] - 8s 13ms/step - loss: 0.3211 - accuracy: 0.8807 - val_loss: 0.4417 - val_accuracy: 0.8399\n",
            "Epoch 44/70\n",
            "645/645 [==============================] - ETA: 0s - loss: 0.3196 - accuracy: 0.8837\n",
            "Epoch 44: val_accuracy did not improve from 0.84325\n",
            "645/645 [==============================] - 7s 11ms/step - loss: 0.3196 - accuracy: 0.8837 - val_loss: 0.4342 - val_accuracy: 0.8421\n",
            "Epoch 45/70\n",
            "643/645 [============================>.] - ETA: 0s - loss: 0.3181 - accuracy: 0.8832\n",
            "Epoch 45: val_accuracy did not improve from 0.84325\n",
            "645/645 [==============================] - 8s 12ms/step - loss: 0.3181 - accuracy: 0.8832 - val_loss: 0.4384 - val_accuracy: 0.8430\n",
            "Epoch 46/70\n",
            "645/645 [==============================] - ETA: 0s - loss: 0.3159 - accuracy: 0.8843\n",
            "Epoch 46: val_accuracy did not improve from 0.84325\n",
            "645/645 [==============================] - 7s 12ms/step - loss: 0.3159 - accuracy: 0.8843 - val_loss: 0.4304 - val_accuracy: 0.8418\n",
            "Epoch 47/70\n",
            "645/645 [==============================] - ETA: 0s - loss: 0.3153 - accuracy: 0.8839\n",
            "Epoch 47: val_accuracy improved from 0.84325 to 0.84456, saving model to best_model1.hdf5\n",
            "645/645 [==============================] - 7s 11ms/step - loss: 0.3153 - accuracy: 0.8839 - val_loss: 0.4331 - val_accuracy: 0.8446\n",
            "Epoch 48/70\n",
            "642/645 [============================>.] - ETA: 0s - loss: 0.3154 - accuracy: 0.8850\n",
            "Epoch 48: val_accuracy did not improve from 0.84456\n",
            "645/645 [==============================] - 8s 12ms/step - loss: 0.3154 - accuracy: 0.8851 - val_loss: 0.4341 - val_accuracy: 0.8434\n",
            "Epoch 49/70\n",
            "643/645 [============================>.] - ETA: 0s - loss: 0.3161 - accuracy: 0.8860\n",
            "Epoch 49: val_accuracy did not improve from 0.84456\n",
            "645/645 [==============================] - 7s 10ms/step - loss: 0.3161 - accuracy: 0.8861 - val_loss: 0.4323 - val_accuracy: 0.8431\n",
            "Epoch 50/70\n",
            "645/645 [==============================] - ETA: 0s - loss: 0.3106 - accuracy: 0.8882\n",
            "Epoch 50: val_accuracy did not improve from 0.84456\n",
            "645/645 [==============================] - 8s 13ms/step - loss: 0.3106 - accuracy: 0.8882 - val_loss: 0.4391 - val_accuracy: 0.8406\n",
            "Epoch 51/70\n",
            "645/645 [==============================] - ETA: 0s - loss: 0.3117 - accuracy: 0.8859\n",
            "Epoch 51: val_accuracy did not improve from 0.84456\n",
            "645/645 [==============================] - 7s 10ms/step - loss: 0.3117 - accuracy: 0.8859 - val_loss: 0.4446 - val_accuracy: 0.8425\n",
            "Epoch 52/70\n",
            "640/645 [============================>.] - ETA: 0s - loss: 0.3118 - accuracy: 0.8868\n",
            "Epoch 52: val_accuracy did not improve from 0.84456\n",
            "645/645 [==============================] - 8s 13ms/step - loss: 0.3118 - accuracy: 0.8868 - val_loss: 0.4416 - val_accuracy: 0.8418\n",
            "Epoch 53/70\n",
            "645/645 [==============================] - ETA: 0s - loss: 0.3109 - accuracy: 0.8865\n",
            "Epoch 53: val_accuracy did not improve from 0.84456\n",
            "645/645 [==============================] - 7s 11ms/step - loss: 0.3109 - accuracy: 0.8865 - val_loss: 0.4399 - val_accuracy: 0.8396\n",
            "Epoch 54/70\n",
            "642/645 [============================>.] - ETA: 0s - loss: 0.3074 - accuracy: 0.8893\n",
            "Epoch 54: val_accuracy did not improve from 0.84456\n",
            "645/645 [==============================] - 8s 13ms/step - loss: 0.3074 - accuracy: 0.8893 - val_loss: 0.4326 - val_accuracy: 0.8433\n",
            "Epoch 55/70\n",
            "640/645 [============================>.] - ETA: 0s - loss: 0.3050 - accuracy: 0.8882\n",
            "Epoch 55: val_accuracy did not improve from 0.84456\n",
            "645/645 [==============================] - 7s 10ms/step - loss: 0.3054 - accuracy: 0.8879 - val_loss: 0.4403 - val_accuracy: 0.8422\n",
            "Epoch 56/70\n",
            "644/645 [============================>.] - ETA: 0s - loss: 0.3081 - accuracy: 0.8884\n",
            "Epoch 56: val_accuracy did not improve from 0.84456\n",
            "645/645 [==============================] - 8s 12ms/step - loss: 0.3081 - accuracy: 0.8885 - val_loss: 0.4375 - val_accuracy: 0.8435\n",
            "Epoch 57/70\n",
            "645/645 [==============================] - ETA: 0s - loss: 0.3034 - accuracy: 0.8884\n",
            "Epoch 57: val_accuracy did not improve from 0.84456\n",
            "645/645 [==============================] - 7s 11ms/step - loss: 0.3034 - accuracy: 0.8884 - val_loss: 0.4427 - val_accuracy: 0.8408\n",
            "Epoch 58/70\n",
            "642/645 [============================>.] - ETA: 0s - loss: 0.3054 - accuracy: 0.8885\n",
            "Epoch 58: val_accuracy did not improve from 0.84456\n",
            "645/645 [==============================] - 7s 11ms/step - loss: 0.3055 - accuracy: 0.8885 - val_loss: 0.4423 - val_accuracy: 0.8430\n",
            "Epoch 59/70\n",
            "645/645 [==============================] - ETA: 0s - loss: 0.3031 - accuracy: 0.8887\n",
            "Epoch 59: val_accuracy did not improve from 0.84456\n",
            "645/645 [==============================] - 7s 11ms/step - loss: 0.3031 - accuracy: 0.8887 - val_loss: 0.4468 - val_accuracy: 0.8414\n",
            "Epoch 60/70\n",
            "645/645 [==============================] - ETA: 0s - loss: 0.3052 - accuracy: 0.8895\n",
            "Epoch 60: val_accuracy did not improve from 0.84456\n",
            "645/645 [==============================] - 8s 12ms/step - loss: 0.3052 - accuracy: 0.8895 - val_loss: 0.4392 - val_accuracy: 0.8392\n",
            "Epoch 61/70\n",
            "641/645 [============================>.] - ETA: 0s - loss: 0.2995 - accuracy: 0.8920\n",
            "Epoch 61: val_accuracy did not improve from 0.84456\n",
            "645/645 [==============================] - 7s 12ms/step - loss: 0.2995 - accuracy: 0.8920 - val_loss: 0.4380 - val_accuracy: 0.8405\n",
            "Epoch 62/70\n",
            "645/645 [==============================] - ETA: 0s - loss: 0.3010 - accuracy: 0.8918\n",
            "Epoch 62: val_accuracy did not improve from 0.84456\n",
            "645/645 [==============================] - 7s 11ms/step - loss: 0.3010 - accuracy: 0.8918 - val_loss: 0.4528 - val_accuracy: 0.8409\n",
            "Epoch 63/70\n",
            "645/645 [==============================] - ETA: 0s - loss: 0.2993 - accuracy: 0.8917\n",
            "Epoch 63: val_accuracy did not improve from 0.84456\n",
            "645/645 [==============================] - 8s 12ms/step - loss: 0.2993 - accuracy: 0.8917 - val_loss: 0.4459 - val_accuracy: 0.8371\n",
            "Epoch 64/70\n",
            "642/645 [============================>.] - ETA: 0s - loss: 0.2946 - accuracy: 0.8954\n",
            "Epoch 64: val_accuracy did not improve from 0.84456\n",
            "645/645 [==============================] - 7s 10ms/step - loss: 0.2948 - accuracy: 0.8953 - val_loss: 0.4474 - val_accuracy: 0.8414\n",
            "Epoch 65/70\n",
            "640/645 [============================>.] - ETA: 0s - loss: 0.2962 - accuracy: 0.8926\n",
            "Epoch 65: val_accuracy did not improve from 0.84456\n",
            "645/645 [==============================] - 8s 13ms/step - loss: 0.2959 - accuracy: 0.8929 - val_loss: 0.4462 - val_accuracy: 0.8387\n",
            "Epoch 66/70\n",
            "645/645 [==============================] - ETA: 0s - loss: 0.2993 - accuracy: 0.8924\n",
            "Epoch 66: val_accuracy did not improve from 0.84456\n",
            "645/645 [==============================] - 7s 11ms/step - loss: 0.2993 - accuracy: 0.8924 - val_loss: 0.4536 - val_accuracy: 0.8395\n",
            "Epoch 67/70\n",
            "645/645 [==============================] - ETA: 0s - loss: 0.2966 - accuracy: 0.8920\n",
            "Epoch 67: val_accuracy did not improve from 0.84456\n",
            "645/645 [==============================] - 8s 12ms/step - loss: 0.2966 - accuracy: 0.8920 - val_loss: 0.4434 - val_accuracy: 0.8370\n",
            "Epoch 68/70\n",
            "644/645 [============================>.] - ETA: 0s - loss: 0.2929 - accuracy: 0.8940\n",
            "Epoch 68: val_accuracy did not improve from 0.84456\n",
            "645/645 [==============================] - 7s 10ms/step - loss: 0.2929 - accuracy: 0.8940 - val_loss: 0.4498 - val_accuracy: 0.8409\n",
            "Epoch 69/70\n",
            "645/645 [==============================] - ETA: 0s - loss: 0.2951 - accuracy: 0.8945\n",
            "Epoch 69: val_accuracy did not improve from 0.84456\n",
            "645/645 [==============================] - 8s 12ms/step - loss: 0.2951 - accuracy: 0.8945 - val_loss: 0.4440 - val_accuracy: 0.8406\n",
            "Epoch 70/70\n",
            "641/645 [============================>.] - ETA: 0s - loss: 0.2924 - accuracy: 0.8921\n",
            "Epoch 70: val_accuracy did not improve from 0.84456\n",
            "645/645 [==============================] - 7s 11ms/step - loss: 0.2925 - accuracy: 0.8919 - val_loss: 0.4414 - val_accuracy: 0.8402\n"
          ]
        }
      ]
    },
    {
      "cell_type": "code",
      "source": [
        "model2=Sequential()\n",
        "model2.add(layers.Embedding(max_words,40,input_length=max_len))\n",
        "model2.add(layers.Bidirectional(layers.LSTM(20,dropout=0.6)))\n",
        "model2.add(layers.Dense(3,activation=\"softmax\"))\n",
        "model2.compile(optimizer='rmsprop',loss='categorical_crossentropy', metrics=['accuracy'])\n",
        "\n",
        "checkpoint2 = ModelCheckpoint(\"best_model2.hdf5\", monitor='val_accuracy', verbose=1,save_best_only=True, mode='auto', period=1,save_weights_only=False)\n",
        "history = model2.fit(X_train, y_train, epochs=70,validation_data=(X_test, y_test),callbacks=[checkpoint2])\n"
      ],
      "metadata": {
        "colab": {
          "base_uri": "https://localhost:8080/"
        },
        "id": "hcaX_VNHXfIe",
        "outputId": "89ed31b5-7163-4e16-d15c-e06e5216ed5c"
      },
      "execution_count": 17,
      "outputs": [
        {
          "output_type": "stream",
          "name": "stderr",
          "text": [
            "WARNING:tensorflow:`period` argument is deprecated. Please use `save_freq` to specify the frequency in number of batches seen.\n"
          ]
        },
        {
          "output_type": "stream",
          "name": "stdout",
          "text": [
            "Epoch 1/70\n",
            "645/645 [==============================] - ETA: 0s - loss: 0.7940 - accuracy: 0.6563\n",
            "Epoch 1: val_accuracy improved from -inf to 0.71925, saving model to best_model2.hdf5\n",
            "645/645 [==============================] - 32s 44ms/step - loss: 0.7940 - accuracy: 0.6563 - val_loss: 0.6511 - val_accuracy: 0.7193\n",
            "Epoch 2/70\n",
            "645/645 [==============================] - ETA: 0s - loss: 0.5715 - accuracy: 0.7691\n",
            "Epoch 2: val_accuracy improved from 0.71925 to 0.76539, saving model to best_model2.hdf5\n",
            "645/645 [==============================] - 13s 20ms/step - loss: 0.5715 - accuracy: 0.7691 - val_loss: 0.5562 - val_accuracy: 0.7654\n",
            "Epoch 3/70\n",
            "645/645 [==============================] - ETA: 0s - loss: 0.4990 - accuracy: 0.8063\n",
            "Epoch 3: val_accuracy improved from 0.76539 to 0.81531, saving model to best_model2.hdf5\n",
            "645/645 [==============================] - 13s 20ms/step - loss: 0.4990 - accuracy: 0.8063 - val_loss: 0.4902 - val_accuracy: 0.8153\n",
            "Epoch 4/70\n",
            "645/645 [==============================] - ETA: 0s - loss: 0.4648 - accuracy: 0.8231\n",
            "Epoch 4: val_accuracy improved from 0.81531 to 0.81604, saving model to best_model2.hdf5\n",
            "645/645 [==============================] - 13s 20ms/step - loss: 0.4648 - accuracy: 0.8231 - val_loss: 0.4764 - val_accuracy: 0.8160\n",
            "Epoch 5/70\n",
            "645/645 [==============================] - ETA: 0s - loss: 0.4456 - accuracy: 0.8306\n",
            "Epoch 5: val_accuracy improved from 0.81604 to 0.81968, saving model to best_model2.hdf5\n",
            "645/645 [==============================] - 13s 20ms/step - loss: 0.4456 - accuracy: 0.8306 - val_loss: 0.4673 - val_accuracy: 0.8197\n",
            "Epoch 6/70\n",
            "645/645 [==============================] - ETA: 0s - loss: 0.4300 - accuracy: 0.8372\n",
            "Epoch 6: val_accuracy improved from 0.81968 to 0.82390, saving model to best_model2.hdf5\n",
            "645/645 [==============================] - 12s 19ms/step - loss: 0.4300 - accuracy: 0.8372 - val_loss: 0.4554 - val_accuracy: 0.8239\n",
            "Epoch 7/70\n",
            "645/645 [==============================] - ETA: 0s - loss: 0.4169 - accuracy: 0.8429\n",
            "Epoch 7: val_accuracy did not improve from 0.82390\n",
            "645/645 [==============================] - 13s 19ms/step - loss: 0.4169 - accuracy: 0.8429 - val_loss: 0.4543 - val_accuracy: 0.8227\n",
            "Epoch 8/70\n",
            "645/645 [==============================] - ETA: 0s - loss: 0.4073 - accuracy: 0.8474\n",
            "Epoch 8: val_accuracy improved from 0.82390 to 0.82535, saving model to best_model2.hdf5\n",
            "645/645 [==============================] - 12s 18ms/step - loss: 0.4073 - accuracy: 0.8474 - val_loss: 0.4454 - val_accuracy: 0.8254\n",
            "Epoch 9/70\n",
            "645/645 [==============================] - ETA: 0s - loss: 0.3944 - accuracy: 0.8520\n",
            "Epoch 9: val_accuracy improved from 0.82535 to 0.82914, saving model to best_model2.hdf5\n",
            "645/645 [==============================] - 11s 17ms/step - loss: 0.3944 - accuracy: 0.8520 - val_loss: 0.4428 - val_accuracy: 0.8291\n",
            "Epoch 10/70\n",
            "645/645 [==============================] - ETA: 0s - loss: 0.3882 - accuracy: 0.8546\n",
            "Epoch 10: val_accuracy improved from 0.82914 to 0.83103, saving model to best_model2.hdf5\n",
            "645/645 [==============================] - 12s 19ms/step - loss: 0.3882 - accuracy: 0.8546 - val_loss: 0.4416 - val_accuracy: 0.8310\n",
            "Epoch 11/70\n",
            "645/645 [==============================] - ETA: 0s - loss: 0.3819 - accuracy: 0.8585\n",
            "Epoch 11: val_accuracy did not improve from 0.83103\n",
            "645/645 [==============================] - 12s 18ms/step - loss: 0.3819 - accuracy: 0.8585 - val_loss: 0.4449 - val_accuracy: 0.8307\n",
            "Epoch 12/70\n",
            "645/645 [==============================] - ETA: 0s - loss: 0.3746 - accuracy: 0.8610\n",
            "Epoch 12: val_accuracy improved from 0.83103 to 0.83467, saving model to best_model2.hdf5\n",
            "645/645 [==============================] - 12s 18ms/step - loss: 0.3746 - accuracy: 0.8610 - val_loss: 0.4343 - val_accuracy: 0.8347\n",
            "Epoch 13/70\n",
            "645/645 [==============================] - ETA: 0s - loss: 0.3720 - accuracy: 0.8631\n",
            "Epoch 13: val_accuracy did not improve from 0.83467\n",
            "645/645 [==============================] - 12s 18ms/step - loss: 0.3720 - accuracy: 0.8631 - val_loss: 0.4399 - val_accuracy: 0.8339\n",
            "Epoch 14/70\n",
            "645/645 [==============================] - ETA: 0s - loss: 0.3625 - accuracy: 0.8676\n",
            "Epoch 14: val_accuracy did not improve from 0.83467\n",
            "645/645 [==============================] - 12s 19ms/step - loss: 0.3625 - accuracy: 0.8676 - val_loss: 0.4323 - val_accuracy: 0.8332\n",
            "Epoch 15/70\n",
            "645/645 [==============================] - ETA: 0s - loss: 0.3615 - accuracy: 0.8663\n",
            "Epoch 15: val_accuracy improved from 0.83467 to 0.83816, saving model to best_model2.hdf5\n",
            "645/645 [==============================] - 11s 17ms/step - loss: 0.3615 - accuracy: 0.8663 - val_loss: 0.4271 - val_accuracy: 0.8382\n",
            "Epoch 16/70\n",
            "644/645 [============================>.] - ETA: 0s - loss: 0.3568 - accuracy: 0.8681\n",
            "Epoch 16: val_accuracy improved from 0.83816 to 0.83860, saving model to best_model2.hdf5\n",
            "645/645 [==============================] - 13s 21ms/step - loss: 0.3568 - accuracy: 0.8681 - val_loss: 0.4253 - val_accuracy: 0.8386\n",
            "Epoch 17/70\n",
            "642/645 [============================>.] - ETA: 0s - loss: 0.3512 - accuracy: 0.8704\n",
            "Epoch 17: val_accuracy improved from 0.83860 to 0.84063, saving model to best_model2.hdf5\n",
            "645/645 [==============================] - 12s 19ms/step - loss: 0.3514 - accuracy: 0.8703 - val_loss: 0.4267 - val_accuracy: 0.8406\n",
            "Epoch 18/70\n",
            "645/645 [==============================] - ETA: 0s - loss: 0.3449 - accuracy: 0.8749\n",
            "Epoch 18: val_accuracy did not improve from 0.84063\n",
            "645/645 [==============================] - 12s 19ms/step - loss: 0.3449 - accuracy: 0.8749 - val_loss: 0.4283 - val_accuracy: 0.8357\n",
            "Epoch 19/70\n",
            "645/645 [==============================] - ETA: 0s - loss: 0.3453 - accuracy: 0.8717\n",
            "Epoch 19: val_accuracy did not improve from 0.84063\n",
            "645/645 [==============================] - 12s 19ms/step - loss: 0.3453 - accuracy: 0.8717 - val_loss: 0.4211 - val_accuracy: 0.8396\n",
            "Epoch 20/70\n",
            "645/645 [==============================] - ETA: 0s - loss: 0.3416 - accuracy: 0.8748\n",
            "Epoch 20: val_accuracy did not improve from 0.84063\n",
            "645/645 [==============================] - 12s 19ms/step - loss: 0.3416 - accuracy: 0.8748 - val_loss: 0.4234 - val_accuracy: 0.8389\n",
            "Epoch 21/70\n",
            "645/645 [==============================] - ETA: 0s - loss: 0.3380 - accuracy: 0.8744\n",
            "Epoch 21: val_accuracy improved from 0.84063 to 0.84078, saving model to best_model2.hdf5\n",
            "645/645 [==============================] - 12s 18ms/step - loss: 0.3380 - accuracy: 0.8744 - val_loss: 0.4247 - val_accuracy: 0.8408\n",
            "Epoch 22/70\n",
            "644/645 [============================>.] - ETA: 0s - loss: 0.3388 - accuracy: 0.8764\n",
            "Epoch 22: val_accuracy improved from 0.84078 to 0.84151, saving model to best_model2.hdf5\n",
            "645/645 [==============================] - 12s 18ms/step - loss: 0.3388 - accuracy: 0.8764 - val_loss: 0.4243 - val_accuracy: 0.8415\n",
            "Epoch 23/70\n",
            "645/645 [==============================] - ETA: 0s - loss: 0.3330 - accuracy: 0.8775\n",
            "Epoch 23: val_accuracy did not improve from 0.84151\n",
            "645/645 [==============================] - 11s 18ms/step - loss: 0.3330 - accuracy: 0.8775 - val_loss: 0.4228 - val_accuracy: 0.8398\n",
            "Epoch 24/70\n",
            "645/645 [==============================] - ETA: 0s - loss: 0.3329 - accuracy: 0.8782\n",
            "Epoch 24: val_accuracy improved from 0.84151 to 0.84340, saving model to best_model2.hdf5\n",
            "645/645 [==============================] - 12s 19ms/step - loss: 0.3329 - accuracy: 0.8782 - val_loss: 0.4261 - val_accuracy: 0.8434\n",
            "Epoch 25/70\n",
            "645/645 [==============================] - ETA: 0s - loss: 0.3281 - accuracy: 0.8806\n",
            "Epoch 25: val_accuracy did not improve from 0.84340\n",
            "645/645 [==============================] - 13s 20ms/step - loss: 0.3281 - accuracy: 0.8806 - val_loss: 0.4295 - val_accuracy: 0.8415\n",
            "Epoch 26/70\n",
            "645/645 [==============================] - ETA: 0s - loss: 0.3281 - accuracy: 0.8786\n",
            "Epoch 26: val_accuracy improved from 0.84340 to 0.84398, saving model to best_model2.hdf5\n",
            "645/645 [==============================] - 11s 17ms/step - loss: 0.3281 - accuracy: 0.8786 - val_loss: 0.4194 - val_accuracy: 0.8440\n",
            "Epoch 27/70\n",
            "644/645 [============================>.] - ETA: 0s - loss: 0.3254 - accuracy: 0.8804\n",
            "Epoch 27: val_accuracy did not improve from 0.84398\n",
            "645/645 [==============================] - 12s 18ms/step - loss: 0.3255 - accuracy: 0.8804 - val_loss: 0.4217 - val_accuracy: 0.8437\n",
            "Epoch 28/70\n",
            "643/645 [============================>.] - ETA: 0s - loss: 0.3231 - accuracy: 0.8815\n",
            "Epoch 28: val_accuracy did not improve from 0.84398\n",
            "645/645 [==============================] - 12s 18ms/step - loss: 0.3232 - accuracy: 0.8815 - val_loss: 0.4228 - val_accuracy: 0.8427\n",
            "Epoch 29/70\n",
            "644/645 [============================>.] - ETA: 0s - loss: 0.3179 - accuracy: 0.8839\n",
            "Epoch 29: val_accuracy did not improve from 0.84398\n",
            "645/645 [==============================] - 12s 19ms/step - loss: 0.3179 - accuracy: 0.8839 - val_loss: 0.4273 - val_accuracy: 0.8434\n",
            "Epoch 30/70\n",
            "645/645 [==============================] - ETA: 0s - loss: 0.3172 - accuracy: 0.8848\n",
            "Epoch 30: val_accuracy did not improve from 0.84398\n",
            "645/645 [==============================] - 13s 20ms/step - loss: 0.3172 - accuracy: 0.8848 - val_loss: 0.4245 - val_accuracy: 0.8422\n",
            "Epoch 31/70\n",
            "644/645 [============================>.] - ETA: 0s - loss: 0.3161 - accuracy: 0.8838\n",
            "Epoch 31: val_accuracy did not improve from 0.84398\n",
            "645/645 [==============================] - 12s 19ms/step - loss: 0.3162 - accuracy: 0.8837 - val_loss: 0.4219 - val_accuracy: 0.8425\n",
            "Epoch 32/70\n",
            "644/645 [============================>.] - ETA: 0s - loss: 0.3124 - accuracy: 0.8848\n",
            "Epoch 32: val_accuracy did not improve from 0.84398\n",
            "645/645 [==============================] - 12s 19ms/step - loss: 0.3124 - accuracy: 0.8848 - val_loss: 0.4217 - val_accuracy: 0.8438\n",
            "Epoch 33/70\n",
            "645/645 [==============================] - ETA: 0s - loss: 0.3091 - accuracy: 0.8876\n",
            "Epoch 33: val_accuracy improved from 0.84398 to 0.84413, saving model to best_model2.hdf5\n",
            "645/645 [==============================] - 12s 19ms/step - loss: 0.3091 - accuracy: 0.8876 - val_loss: 0.4251 - val_accuracy: 0.8441\n",
            "Epoch 34/70\n",
            "643/645 [============================>.] - ETA: 0s - loss: 0.3101 - accuracy: 0.8852\n",
            "Epoch 34: val_accuracy did not improve from 0.84413\n",
            "645/645 [==============================] - 13s 20ms/step - loss: 0.3098 - accuracy: 0.8852 - val_loss: 0.4296 - val_accuracy: 0.8398\n",
            "Epoch 35/70\n",
            "645/645 [==============================] - ETA: 0s - loss: 0.3074 - accuracy: 0.8880\n",
            "Epoch 35: val_accuracy did not improve from 0.84413\n",
            "645/645 [==============================] - 12s 19ms/step - loss: 0.3074 - accuracy: 0.8880 - val_loss: 0.4263 - val_accuracy: 0.8417\n",
            "Epoch 36/70\n",
            "645/645 [==============================] - ETA: 0s - loss: 0.3062 - accuracy: 0.8867\n",
            "Epoch 36: val_accuracy did not improve from 0.84413\n",
            "645/645 [==============================] - 12s 19ms/step - loss: 0.3062 - accuracy: 0.8867 - val_loss: 0.4324 - val_accuracy: 0.8412\n",
            "Epoch 37/70\n",
            "643/645 [============================>.] - ETA: 0s - loss: 0.3039 - accuracy: 0.8902\n",
            "Epoch 37: val_accuracy did not improve from 0.84413\n",
            "645/645 [==============================] - 12s 19ms/step - loss: 0.3040 - accuracy: 0.8901 - val_loss: 0.4278 - val_accuracy: 0.8387\n",
            "Epoch 38/70\n",
            "645/645 [==============================] - ETA: 0s - loss: 0.3006 - accuracy: 0.8911\n",
            "Epoch 38: val_accuracy did not improve from 0.84413\n",
            "645/645 [==============================] - 12s 19ms/step - loss: 0.3006 - accuracy: 0.8911 - val_loss: 0.4321 - val_accuracy: 0.8418\n",
            "Epoch 39/70\n",
            "645/645 [==============================] - ETA: 0s - loss: 0.2983 - accuracy: 0.8916\n",
            "Epoch 39: val_accuracy did not improve from 0.84413\n",
            "645/645 [==============================] - 12s 19ms/step - loss: 0.2983 - accuracy: 0.8916 - val_loss: 0.4296 - val_accuracy: 0.8427\n",
            "Epoch 40/70\n",
            "645/645 [==============================] - ETA: 0s - loss: 0.2999 - accuracy: 0.8922\n",
            "Epoch 40: val_accuracy did not improve from 0.84413\n",
            "645/645 [==============================] - 12s 19ms/step - loss: 0.2999 - accuracy: 0.8922 - val_loss: 0.4385 - val_accuracy: 0.8405\n",
            "Epoch 41/70\n",
            "643/645 [============================>.] - ETA: 0s - loss: 0.2963 - accuracy: 0.8923\n",
            "Epoch 41: val_accuracy improved from 0.84413 to 0.84529, saving model to best_model2.hdf5\n",
            "645/645 [==============================] - 12s 19ms/step - loss: 0.2961 - accuracy: 0.8924 - val_loss: 0.4443 - val_accuracy: 0.8453\n",
            "Epoch 42/70\n",
            "645/645 [==============================] - ETA: 0s - loss: 0.2958 - accuracy: 0.8932\n",
            "Epoch 42: val_accuracy did not improve from 0.84529\n",
            "645/645 [==============================] - 12s 19ms/step - loss: 0.2958 - accuracy: 0.8932 - val_loss: 0.4343 - val_accuracy: 0.8421\n",
            "Epoch 43/70\n",
            "643/645 [============================>.] - ETA: 0s - loss: 0.2963 - accuracy: 0.8917\n",
            "Epoch 43: val_accuracy did not improve from 0.84529\n",
            "645/645 [==============================] - 12s 19ms/step - loss: 0.2960 - accuracy: 0.8918 - val_loss: 0.4322 - val_accuracy: 0.8427\n",
            "Epoch 44/70\n",
            "645/645 [==============================] - ETA: 0s - loss: 0.2932 - accuracy: 0.8939\n",
            "Epoch 44: val_accuracy did not improve from 0.84529\n",
            "645/645 [==============================] - 12s 18ms/step - loss: 0.2932 - accuracy: 0.8939 - val_loss: 0.4369 - val_accuracy: 0.8428\n",
            "Epoch 45/70\n",
            "644/645 [============================>.] - ETA: 0s - loss: 0.2909 - accuracy: 0.8934\n",
            "Epoch 45: val_accuracy did not improve from 0.84529\n",
            "645/645 [==============================] - 13s 21ms/step - loss: 0.2909 - accuracy: 0.8934 - val_loss: 0.4349 - val_accuracy: 0.8406\n",
            "Epoch 46/70\n",
            "642/645 [============================>.] - ETA: 0s - loss: 0.2888 - accuracy: 0.8956\n",
            "Epoch 46: val_accuracy did not improve from 0.84529\n",
            "645/645 [==============================] - 12s 19ms/step - loss: 0.2884 - accuracy: 0.8956 - val_loss: 0.4363 - val_accuracy: 0.8408\n",
            "Epoch 47/70\n",
            "644/645 [============================>.] - ETA: 0s - loss: 0.2874 - accuracy: 0.8979\n",
            "Epoch 47: val_accuracy did not improve from 0.84529\n",
            "645/645 [==============================] - 12s 19ms/step - loss: 0.2874 - accuracy: 0.8979 - val_loss: 0.4416 - val_accuracy: 0.8417\n",
            "Epoch 48/70\n",
            "642/645 [============================>.] - ETA: 0s - loss: 0.2862 - accuracy: 0.8949\n",
            "Epoch 48: val_accuracy did not improve from 0.84529\n",
            "645/645 [==============================] - 14s 21ms/step - loss: 0.2865 - accuracy: 0.8950 - val_loss: 0.4408 - val_accuracy: 0.8393\n",
            "Epoch 49/70\n",
            "645/645 [==============================] - ETA: 0s - loss: 0.2833 - accuracy: 0.8988\n",
            "Epoch 49: val_accuracy did not improve from 0.84529\n",
            "645/645 [==============================] - 12s 19ms/step - loss: 0.2833 - accuracy: 0.8988 - val_loss: 0.4416 - val_accuracy: 0.8385\n",
            "Epoch 50/70\n",
            "644/645 [============================>.] - ETA: 0s - loss: 0.2828 - accuracy: 0.8975\n",
            "Epoch 50: val_accuracy did not improve from 0.84529\n",
            "645/645 [==============================] - 12s 19ms/step - loss: 0.2828 - accuracy: 0.8975 - val_loss: 0.4406 - val_accuracy: 0.8411\n",
            "Epoch 51/70\n",
            "645/645 [==============================] - ETA: 0s - loss: 0.2856 - accuracy: 0.8951\n",
            "Epoch 51: val_accuracy did not improve from 0.84529\n",
            "645/645 [==============================] - 12s 19ms/step - loss: 0.2856 - accuracy: 0.8951 - val_loss: 0.4476 - val_accuracy: 0.8376\n",
            "Epoch 52/70\n",
            "645/645 [==============================] - ETA: 0s - loss: 0.2821 - accuracy: 0.8961\n",
            "Epoch 52: val_accuracy did not improve from 0.84529\n",
            "645/645 [==============================] - 13s 20ms/step - loss: 0.2821 - accuracy: 0.8961 - val_loss: 0.4448 - val_accuracy: 0.8406\n",
            "Epoch 53/70\n",
            "643/645 [============================>.] - ETA: 0s - loss: 0.2811 - accuracy: 0.8989\n",
            "Epoch 53: val_accuracy did not improve from 0.84529\n",
            "645/645 [==============================] - 12s 19ms/step - loss: 0.2811 - accuracy: 0.8989 - val_loss: 0.4407 - val_accuracy: 0.8389\n",
            "Epoch 54/70\n",
            "645/645 [==============================] - ETA: 0s - loss: 0.2784 - accuracy: 0.8993\n",
            "Epoch 54: val_accuracy did not improve from 0.84529\n",
            "645/645 [==============================] - 13s 20ms/step - loss: 0.2784 - accuracy: 0.8993 - val_loss: 0.4457 - val_accuracy: 0.8401\n",
            "Epoch 55/70\n",
            "643/645 [============================>.] - ETA: 0s - loss: 0.2730 - accuracy: 0.9009\n",
            "Epoch 55: val_accuracy did not improve from 0.84529\n",
            "645/645 [==============================] - 13s 20ms/step - loss: 0.2731 - accuracy: 0.9009 - val_loss: 0.4526 - val_accuracy: 0.8403\n",
            "Epoch 56/70\n",
            "645/645 [==============================] - ETA: 0s - loss: 0.2750 - accuracy: 0.9005\n",
            "Epoch 56: val_accuracy did not improve from 0.84529\n",
            "645/645 [==============================] - 13s 20ms/step - loss: 0.2750 - accuracy: 0.9005 - val_loss: 0.4550 - val_accuracy: 0.8347\n",
            "Epoch 57/70\n",
            "644/645 [============================>.] - ETA: 0s - loss: 0.2725 - accuracy: 0.9028\n",
            "Epoch 57: val_accuracy did not improve from 0.84529\n",
            "645/645 [==============================] - 13s 20ms/step - loss: 0.2724 - accuracy: 0.9028 - val_loss: 0.4529 - val_accuracy: 0.8393\n",
            "Epoch 58/70\n",
            "644/645 [============================>.] - ETA: 0s - loss: 0.2763 - accuracy: 0.8997\n",
            "Epoch 58: val_accuracy did not improve from 0.84529\n",
            "645/645 [==============================] - 12s 18ms/step - loss: 0.2763 - accuracy: 0.8998 - val_loss: 0.4478 - val_accuracy: 0.8431\n",
            "Epoch 59/70\n",
            "642/645 [============================>.] - ETA: 0s - loss: 0.2710 - accuracy: 0.9017\n",
            "Epoch 59: val_accuracy did not improve from 0.84529\n",
            "645/645 [==============================] - 12s 19ms/step - loss: 0.2709 - accuracy: 0.9017 - val_loss: 0.4560 - val_accuracy: 0.8398\n",
            "Epoch 60/70\n",
            "644/645 [============================>.] - ETA: 0s - loss: 0.2744 - accuracy: 0.9013\n",
            "Epoch 60: val_accuracy did not improve from 0.84529\n",
            "645/645 [==============================] - 13s 19ms/step - loss: 0.2744 - accuracy: 0.9014 - val_loss: 0.4549 - val_accuracy: 0.8427\n",
            "Epoch 61/70\n",
            "644/645 [============================>.] - ETA: 0s - loss: 0.2708 - accuracy: 0.9019\n",
            "Epoch 61: val_accuracy did not improve from 0.84529\n",
            "645/645 [==============================] - 13s 20ms/step - loss: 0.2707 - accuracy: 0.9019 - val_loss: 0.4519 - val_accuracy: 0.8412\n",
            "Epoch 62/70\n",
            "643/645 [============================>.] - ETA: 0s - loss: 0.2699 - accuracy: 0.9023\n",
            "Epoch 62: val_accuracy did not improve from 0.84529\n",
            "645/645 [==============================] - 12s 19ms/step - loss: 0.2699 - accuracy: 0.9022 - val_loss: 0.4486 - val_accuracy: 0.8414\n",
            "Epoch 63/70\n",
            "643/645 [============================>.] - ETA: 0s - loss: 0.2701 - accuracy: 0.9040\n",
            "Epoch 63: val_accuracy did not improve from 0.84529\n",
            "645/645 [==============================] - 12s 19ms/step - loss: 0.2698 - accuracy: 0.9041 - val_loss: 0.4519 - val_accuracy: 0.8412\n",
            "Epoch 64/70\n",
            "643/645 [============================>.] - ETA: 0s - loss: 0.2674 - accuracy: 0.9041\n",
            "Epoch 64: val_accuracy did not improve from 0.84529\n",
            "645/645 [==============================] - 12s 19ms/step - loss: 0.2675 - accuracy: 0.9040 - val_loss: 0.4527 - val_accuracy: 0.8403\n",
            "Epoch 65/70\n",
            "645/645 [==============================] - ETA: 0s - loss: 0.2687 - accuracy: 0.9048\n",
            "Epoch 65: val_accuracy did not improve from 0.84529\n",
            "645/645 [==============================] - 13s 19ms/step - loss: 0.2687 - accuracy: 0.9048 - val_loss: 0.4513 - val_accuracy: 0.8373\n",
            "Epoch 66/70\n",
            "645/645 [==============================] - ETA: 0s - loss: 0.2657 - accuracy: 0.9063\n",
            "Epoch 66: val_accuracy did not improve from 0.84529\n",
            "645/645 [==============================] - 12s 18ms/step - loss: 0.2657 - accuracy: 0.9063 - val_loss: 0.4639 - val_accuracy: 0.8414\n",
            "Epoch 67/70\n",
            "642/645 [============================>.] - ETA: 0s - loss: 0.2655 - accuracy: 0.9054\n",
            "Epoch 67: val_accuracy did not improve from 0.84529\n",
            "645/645 [==============================] - 12s 18ms/step - loss: 0.2655 - accuracy: 0.9054 - val_loss: 0.4557 - val_accuracy: 0.8398\n",
            "Epoch 68/70\n",
            "644/645 [============================>.] - ETA: 0s - loss: 0.2652 - accuracy: 0.9055\n",
            "Epoch 68: val_accuracy did not improve from 0.84529\n",
            "645/645 [==============================] - 12s 19ms/step - loss: 0.2651 - accuracy: 0.9055 - val_loss: 0.4526 - val_accuracy: 0.8406\n",
            "Epoch 69/70\n",
            "644/645 [============================>.] - ETA: 0s - loss: 0.2655 - accuracy: 0.9035\n",
            "Epoch 69: val_accuracy did not improve from 0.84529\n",
            "645/645 [==============================] - 12s 19ms/step - loss: 0.2655 - accuracy: 0.9035 - val_loss: 0.4601 - val_accuracy: 0.8379\n",
            "Epoch 70/70\n",
            "642/645 [============================>.] - ETA: 0s - loss: 0.2627 - accuracy: 0.9047\n",
            "Epoch 70: val_accuracy did not improve from 0.84529\n",
            "645/645 [==============================] - 12s 19ms/step - loss: 0.2631 - accuracy: 0.9045 - val_loss: 0.4620 - val_accuracy: 0.8383\n"
          ]
        }
      ]
    },
    {
      "cell_type": "code",
      "source": [
        "final_model=keras.models.load_model(\"best_model2.hdf5\")\n",
        "\n",
        "test_loss, test_acc = final_model.evaluate(X_test, y_test, verbose=2)\n",
        "print('Model accuracy: ',test_acc)"
      ],
      "metadata": {
        "colab": {
          "base_uri": "https://localhost:8080/"
        },
        "id": "YhvwtBZcb-F1",
        "outputId": "2adf7a4b-b61c-40df-b947-0c818c6b4fa8"
      },
      "execution_count": 18,
      "outputs": [
        {
          "output_type": "stream",
          "name": "stdout",
          "text": [
            "215/215 - 2s - loss: 0.4443 - accuracy: 0.8453 - 2s/epoch - 9ms/step\n",
            "Model accuracy:  0.845291793346405\n"
          ]
        }
      ]
    },
    {
      "cell_type": "code",
      "source": [
        "predictions = final_model.predict(X_test)\n",
        "print(predictions)"
      ],
      "metadata": {
        "colab": {
          "base_uri": "https://localhost:8080/"
        },
        "id": "IcZUsONodHr1",
        "outputId": "381de1a7-4420-4034-d203-6f80a94449b4"
      },
      "execution_count": 19,
      "outputs": [
        {
          "output_type": "stream",
          "name": "stdout",
          "text": [
            "215/215 [==============================] - 2s 6ms/step\n",
            "[[0.00361234 0.00428057 0.9921071 ]\n",
            " [0.00971146 0.9794882  0.01080028]\n",
            " [0.9039309  0.00961103 0.08645809]\n",
            " ...\n",
            " [0.01162008 0.11431974 0.87406015]\n",
            " [0.97575206 0.00737565 0.01687222]\n",
            " [0.81059736 0.17635894 0.01304372]]\n"
          ]
        }
      ]
    },
    {
      "cell_type": "code",
      "source": [
        "from sklearn.metrics import confusion_matrix\n",
        "import seaborn as sns\n",
        "\n",
        "matrix = confusion_matrix(y_test.argmax(axis=1), np.around(predictions, decimals=0).argmax(axis=1))\n",
        "\n",
        "conf_matrix = pd.DataFrame(matrix, index = ['Neutral','Negative','Positive'],columns = ['Neutral','Negative','Positive'])\n",
        "conf_matrix = conf_matrix.astype('float') / conf_matrix.sum(axis=1)[:, np.newaxis]\n",
        "plt.figure(figsize = (15,15))\n",
        "sns.heatmap(conf_matrix, annot=True, annot_kws={\"size\": 15})"
      ],
      "metadata": {
        "colab": {
          "base_uri": "https://localhost:8080/",
          "height": 1000
        },
        "id": "bZhwvusOdNBd",
        "outputId": "ae6a7407-f495-4ab0-939a-aa3f91d2fa1d"
      },
      "execution_count": 20,
      "outputs": [
        {
          "output_type": "stream",
          "name": "stderr",
          "text": [
            "<ipython-input-20-b10c5e1ebd73>:7: FutureWarning: Support for multi-dimensional indexing (e.g. `obj[:, None]`) is deprecated and will be removed in a future version.  Convert to a numpy array before indexing instead.\n",
            "  conf_matrix = conf_matrix.astype('float') / conf_matrix.sum(axis=1)[:, np.newaxis]\n"
          ]
        },
        {
          "output_type": "execute_result",
          "data": {
            "text/plain": [
              "<Axes: >"
            ]
          },
          "metadata": {},
          "execution_count": 20
        },
        {
          "output_type": "display_data",
          "data": {
            "text/plain": [
              "<Figure size 1500x1500 with 2 Axes>"
            ],
            "image/png": "[encoded data removed]"
          },
          "metadata": {}
        }
      ]
    },
    {
      "cell_type": "code",
      "source": [
        "sentiment = ['Neutral','Negative','Positive']"
      ],
      "metadata": {
        "id": "rgvcCcX9dd7d"
      },
      "execution_count": 21,
      "outputs": []
    },
    {
      "cell_type": "code",
      "source": [
        "sequence = tokenizer.texts_to_sequences(['this experience has been the worst , want my money back'])\n",
        "test = pad_sequences(sequence, maxlen=max_len)\n",
        "sentiment[np.around(final_model.predict(test), decimals=0).argmax(axis=1)[0]]"
      ],
      "metadata": {
        "colab": {
          "base_uri": "https://localhost:8080/",
          "height": 52
        },
        "id": "N5N90Xi-dg6t",
        "outputId": "c5422f69-81d6-48be-b947-21ddf1020690"
      },
      "execution_count": 22,
      "outputs": [
        {
          "output_type": "stream",
          "name": "stdout",
          "text": [
            "1/1 [==============================] - 0s 28ms/step\n"
          ]
        },
        {
          "output_type": "execute_result",
          "data": {
            "text/plain": [
              "'Negative'"
            ],
            "application/vnd.google.colaboratory.intrinsic+json": {
              "type": "string"
            }
          },
          "metadata": {},
          "execution_count": 22
        }
      ]
    },
    {
      "cell_type": "code",
      "source": [
        "sequence = tokenizer.texts_to_sequences(['i really loved how the technician helped me with the issue that i had'])\n",
        "test = pad_sequences(sequence, maxlen=max_len)\n",
        "sentiment[np.around(final_model.predict(test), decimals=0).argmax(axis=1)[0]]"
      ],
      "metadata": {
        "colab": {
          "base_uri": "https://localhost:8080/",
          "height": 52
        },
        "id": "nR5Zni8Ndmw1",
        "outputId": "eeefe59f-ba99-46ac-f6c7-3ac6d0c389f9"
      },
      "execution_count": 23,
      "outputs": [
        {
          "output_type": "stream",
          "name": "stdout",
          "text": [
            "1/1 [==============================] - 0s 23ms/step\n"
          ]
        },
        {
          "output_type": "execute_result",
          "data": {
            "text/plain": [
              "'Positive'"
            ],
            "application/vnd.google.colaboratory.intrinsic+json": {
              "type": "string"
            }
          },
          "metadata": {},
          "execution_count": 23
        }
      ]
    },
    {
      "cell_type": "code",
      "source": [
        "sequence = tokenizer.texts_to_sequences(['you are stupid'])\n",
        "test = pad_sequences(sequence, maxlen=max_len)\n",
        "sentiment[np.around(final_model.predict(test), decimals=0).argmax(axis=1)[0]]"
      ],
      "metadata": {
        "colab": {
          "base_uri": "https://localhost:8080/",
          "height": 52
        },
        "id": "zmFzfCgfdq60",
        "outputId": "23c2de90-382a-4a8c-dbe9-f6551f0b32dc"
      },
      "execution_count": 24,
      "outputs": [
        {
          "output_type": "stream",
          "name": "stdout",
          "text": [
            "1/1 [==============================] - 0s 23ms/step\n"
          ]
        },
        {
          "output_type": "execute_result",
          "data": {
            "text/plain": [
              "'Negative'"
            ],
            "application/vnd.google.colaboratory.intrinsic+json": {
              "type": "string"
            }
          },
          "metadata": {},
          "execution_count": 24
        }
      ]
    },
    {
      "cell_type": "code",
      "source": [
        "sequence = tokenizer.texts_to_sequences(['you are stupidly good '])\n",
        "test = pad_sequences(sequence, maxlen=max_len)\n",
        "sentiment[np.around(final_model.predict(test), decimals=0).argmax(axis=1)[0]]"
      ],
      "metadata": {
        "colab": {
          "base_uri": "https://localhost:8080/",
          "height": 52
        },
        "id": "4s7Ar-d_d4JN",
        "outputId": "f1916753-444c-4428-90db-6ff3d28111e6"
      },
      "execution_count": 25,
      "outputs": [
        {
          "output_type": "stream",
          "name": "stdout",
          "text": [
            "1/1 [==============================] - 0s 24ms/step\n"
          ]
        },
        {
          "output_type": "execute_result",
          "data": {
            "text/plain": [
              "'Positive'"
            ],
            "application/vnd.google.colaboratory.intrinsic+json": {
              "type": "string"
            }
          },
          "metadata": {},
          "execution_count": 25
        }
      ]
    },
    {
      "cell_type": "code",
      "source": [
        "sequence = tokenizer.texts_to_sequences(['you are good stupid'])\n",
        "test = pad_sequences(sequence, maxlen=max_len)\n",
        "sentiment[np.around(final_model.predict(test), decimals=0).argmax(axis=1)[0]]"
      ],
      "metadata": {
        "colab": {
          "base_uri": "https://localhost:8080/",
          "height": 52
        },
        "id": "oJaAL9MLd9u9",
        "outputId": "5c6a2178-0c07-4c30-a004-8f701a088fe7"
      },
      "execution_count": 26,
      "outputs": [
        {
          "output_type": "stream",
          "name": "stdout",
          "text": [
            "1/1 [==============================] - 0s 23ms/step\n"
          ]
        },
        {
          "output_type": "execute_result",
          "data": {
            "text/plain": [
              "'Neutral'"
            ],
            "application/vnd.google.colaboratory.intrinsic+json": {
              "type": "string"
            }
          },
          "metadata": {},
          "execution_count": 26
        }
      ]
    },
    {
      "cell_type": "code",
      "source": [
        "sequence = tokenizer.texts_to_sequences(['Cant you walk straight?'])\n",
        "test = pad_sequences(sequence, maxlen=max_len)\n",
        "sentiment[np.around(final_model.predict(test), decimals=0).argmax(axis=1)[0]]"
      ],
      "metadata": {
        "colab": {
          "base_uri": "https://localhost:8080/",
          "height": 52
        },
        "id": "veEPQlDveDDd",
        "outputId": "d169b465-d8f9-4e0e-de9b-3991504ebe63"
      },
      "execution_count": 27,
      "outputs": [
        {
          "output_type": "stream",
          "name": "stdout",
          "text": [
            "1/1 [==============================] - 0s 26ms/step\n"
          ]
        },
        {
          "output_type": "execute_result",
          "data": {
            "text/plain": [
              "'Neutral'"
            ],
            "application/vnd.google.colaboratory.intrinsic+json": {
              "type": "string"
            }
          },
          "metadata": {},
          "execution_count": 27
        }
      ]
    },
    {
      "cell_type": "code",
      "source": [
        "sequence = tokenizer.texts_to_sequences(['Cant you shoot your brother?'])\n",
        "test = pad_sequences(sequence, maxlen=max_len)\n",
        "sentiment[np.around(final_model.predict(test), decimals=0).argmax(axis=1)[0]]"
      ],
      "metadata": {
        "colab": {
          "base_uri": "https://localhost:8080/",
          "height": 52
        },
        "id": "VbGOCIcDeiO1",
        "outputId": "6465f419-f65e-47f5-bee1-e15f4d5b84c6"
      },
      "execution_count": 28,
      "outputs": [
        {
          "output_type": "stream",
          "name": "stdout",
          "text": [
            "1/1 [==============================] - 0s 26ms/step\n"
          ]
        },
        {
          "output_type": "execute_result",
          "data": {
            "text/plain": [
              "'Neutral'"
            ],
            "application/vnd.google.colaboratory.intrinsic+json": {
              "type": "string"
            }
          },
          "metadata": {},
          "execution_count": 28
        }
      ]
    }
  ]
}